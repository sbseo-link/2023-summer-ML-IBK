{
 "cells": [
  {
   "cell_type": "markdown",
   "id": "a4e4e979",
   "metadata": {},
   "source": [
    "# Cross Validation"
   ]
  },
  {
   "cell_type": "code",
   "execution_count": 1,
   "id": "80ed3179",
   "metadata": {},
   "outputs": [],
   "source": [
    "# Load \"heart.csv\" data"
   ]
  },
  {
   "cell_type": "code",
   "execution_count": 2,
   "id": "3be81d2d",
   "metadata": {},
   "outputs": [],
   "source": [
    "# train test split data ('data' 에서 'target' column 을 제거한 나머지 columns 로 새로운 dataframe 'predictor_columns' 를 만들고, 'taregt' column 만 존재하는 새로운 dataframe 'target_column' 만들기)"
   ]
  },
  {
   "cell_type": "code",
   "execution_count": 3,
   "id": "34044888",
   "metadata": {},
   "outputs": [],
   "source": [
    "# create \"LogisticRegression\" model"
   ]
  },
  {
   "cell_type": "code",
   "execution_count": 4,
   "id": "30a92dcf",
   "metadata": {},
   "outputs": [],
   "source": [
    "# cross_val_score of \"LogisticRegression\" model with 5 folds"
   ]
  },
  {
   "cell_type": "code",
   "execution_count": 5,
   "id": "4a2b9de2",
   "metadata": {},
   "outputs": [],
   "source": [
    "# get the average of the ensemble model results"
   ]
  }
 ],
 "metadata": {
  "kernelspec": {
   "display_name": "Python 3 (ipykernel)",
   "language": "python",
   "name": "python3"
  },
  "language_info": {
   "codemirror_mode": {
    "name": "ipython",
    "version": 3
   },
   "file_extension": ".py",
   "mimetype": "text/x-python",
   "name": "python",
   "nbconvert_exporter": "python",
   "pygments_lexer": "ipython3",
   "version": "3.10.10"
  }
 },
 "nbformat": 4,
 "nbformat_minor": 5
}
