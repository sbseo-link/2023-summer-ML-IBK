{
 "cells": [
  {
   "cell_type": "markdown",
   "id": "f5ab731f",
   "metadata": {},
   "source": [
    "# 03. 머신러닝 파이프라인"
   ]
  },
  {
   "cell_type": "markdown",
   "id": "b99a52d8",
   "metadata": {},
   "source": [
    "## (1) 데이터 전처리 및 분류"
   ]
  },
  {
   "cell_type": "markdown",
   "id": "00d7697f",
   "metadata": {},
   "source": [
    "#### (1-1) 데이터 전처리"
   ]
  },
  {
   "cell_type": "code",
   "execution_count": 1,
   "id": "866a9dd5",
   "metadata": {},
   "outputs": [],
   "source": [
    "# 'data_path' 를 입력받아서 pandas 로 csv 파일을 읽는 'load_csv' 함수 작성\n",
    "\n",
    "import pandas as pd\n",
    "\n",
    "def load_csv(data_path):\n",
    "    pass"
   ]
  },
  {
   "cell_type": "code",
   "execution_count": 2,
   "id": "abef0ea4",
   "metadata": {},
   "outputs": [],
   "source": [
    "# 'load_csv' 함수로 'heart.csv' 파일 로드"
   ]
  },
  {
   "cell_type": "code",
   "execution_count": 3,
   "id": "0e75e3a9",
   "metadata": {},
   "outputs": [],
   "source": [
    "# 'data' type 확인"
   ]
  },
  {
   "cell_type": "code",
   "execution_count": 4,
   "id": "3ddab48e",
   "metadata": {},
   "outputs": [],
   "source": [
    "# 'data' shape 확인"
   ]
  },
  {
   "cell_type": "code",
   "execution_count": 5,
   "id": "7cb4f27b",
   "metadata": {},
   "outputs": [],
   "source": [
    "# 'data' 의 첫 10행 출력"
   ]
  },
  {
   "cell_type": "code",
   "execution_count": 6,
   "id": "6a611383",
   "metadata": {},
   "outputs": [],
   "source": [
    "# 'data' 의 끝 10행 출력"
   ]
  },
  {
   "cell_type": "code",
   "execution_count": 7,
   "id": "ad9d9e10",
   "metadata": {},
   "outputs": [],
   "source": [
    "# 'data' columns 출력"
   ]
  },
  {
   "cell_type": "code",
   "execution_count": 8,
   "id": "f0ceab71",
   "metadata": {},
   "outputs": [],
   "source": [
    "# 'data' 의 columns 중 'target' column 만 출력"
   ]
  },
  {
   "cell_type": "code",
   "execution_count": 9,
   "id": "9db09b49",
   "metadata": {},
   "outputs": [],
   "source": [
    "# 'data' 의 'target' 값 중 고유값만 출력"
   ]
  },
  {
   "cell_type": "code",
   "execution_count": 10,
   "id": "ed7a3fc7",
   "metadata": {},
   "outputs": [],
   "source": [
    "# 'data' 의 'target' column 의 고유값 별 행의 개수를 차트로 표시"
   ]
  },
  {
   "cell_type": "code",
   "execution_count": 11,
   "id": "2660dfcc",
   "metadata": {},
   "outputs": [],
   "source": [
    "# 'data' 의 정보 및 간단한 통계값 확인 및 의미해석"
   ]
  },
  {
   "cell_type": "code",
   "execution_count": 12,
   "id": "04fe9368",
   "metadata": {},
   "outputs": [],
   "source": [
    "# 'data' 의 각 column 과 'target' column 간의 correlation 구하기"
   ]
  },
  {
   "cell_type": "code",
   "execution_count": 13,
   "id": "6f6b1019",
   "metadata": {},
   "outputs": [],
   "source": [
    "# 'data' 의 각 column 과 'target' column 간의 correlation 을 그래프로 출력"
   ]
  },
  {
   "cell_type": "code",
   "execution_count": 14,
   "id": "85ca8c24",
   "metadata": {},
   "outputs": [],
   "source": [
    "# python package 'seaborn'을 활용하여 'sex' column 을 x축으로, 'target' column 을 y축으로 하는 막대그래프(bar plot) 그리고 의미 파악"
   ]
  },
  {
   "cell_type": "code",
   "execution_count": 15,
   "id": "1928cea0",
   "metadata": {},
   "outputs": [],
   "source": [
    "# 'fbs' column 을 x축으로, 'target' column 을 y축으로 하는 막대그래프(bar plot) 그리고 의미 파악"
   ]
  },
  {
   "cell_type": "code",
   "execution_count": 16,
   "id": "d4090084",
   "metadata": {},
   "outputs": [],
   "source": [
    "# 'fbs' column 을 x축으로, 'slope' column 을 y축으로 하는 막대그래프(bar plot) 그리고 의미 파악"
   ]
  },
  {
   "cell_type": "markdown",
   "id": "7888052d",
   "metadata": {},
   "source": [
    "#### (1-2) 데이터 분류 (train / test)"
   ]
  },
  {
   "cell_type": "code",
   "execution_count": 22,
   "id": "76a5aebd",
   "metadata": {},
   "outputs": [],
   "source": [
    "# 'data' 에서 'target' column 을 제거한 나머지 columns 로 새로운 dataframe 'predictor_columns' 를 만들고, \n",
    "# 'taregt' column 만 존재하는 새로운 dataframe 'target_column' 만들기"
   ]
  },
  {
   "cell_type": "code",
   "execution_count": 18,
   "id": "2f80fb59",
   "metadata": {},
   "outputs": [],
   "source": [
    "# 'predictor_columns' 와 'target_column' 를 train 과 test 비율 8:2 로 데이터를 나누기"
   ]
  },
  {
   "cell_type": "code",
   "execution_count": 19,
   "id": "d251d70c",
   "metadata": {},
   "outputs": [],
   "source": [
    "# 분리된 데이터 (x_train, x_test, y_train, y_test) 의 shape 확인"
   ]
  },
  {
   "cell_type": "code",
   "execution_count": 20,
   "id": "5e93b136",
   "metadata": {},
   "outputs": [],
   "source": [
    "# 분리된 데이터 (x_train, x_test, y_train, y_test) 중 x_train 과 y_train 의 index 확인"
   ]
  },
  {
   "cell_type": "code",
   "execution_count": 21,
   "id": "3397693e",
   "metadata": {},
   "outputs": [],
   "source": [
    "# index 중 false 가 있는지 확인"
   ]
  },
  {
   "cell_type": "markdown",
   "id": "820af800",
   "metadata": {},
   "source": [
    "## 2. 모델 훈련"
   ]
  },
  {
   "cell_type": "markdown",
   "id": "eae0df9c",
   "metadata": {},
   "source": [
    "#### (2-1) K-Nearest Neighbors"
   ]
  },
  {
   "cell_type": "code",
   "execution_count": 23,
   "id": "46032500",
   "metadata": {},
   "outputs": [],
   "source": [
    "# python 'sklearn' package 를 활용하여 'K-Nearest Neighbors' 모델 정의"
   ]
  },
  {
   "cell_type": "code",
   "execution_count": 24,
   "id": "824e3ee1",
   "metadata": {},
   "outputs": [],
   "source": [
    "# 'knn' 모델에 x_train 학습"
   ]
  },
  {
   "cell_type": "code",
   "execution_count": 25,
   "id": "80504ae6",
   "metadata": {},
   "outputs": [],
   "source": [
    "# 학습한 'knn' 모델에 x_test 테스트"
   ]
  },
  {
   "cell_type": "markdown",
   "id": "a721ec7f",
   "metadata": {},
   "source": [
    "## 3. 모델 검증"
   ]
  },
  {
   "cell_type": "code",
   "execution_count": 26,
   "id": "010ae98c",
   "metadata": {},
   "outputs": [],
   "source": [
    "# x_test 결과와 y_test 비교"
   ]
  },
  {
   "cell_type": "markdown",
   "id": "e7cc377d",
   "metadata": {},
   "source": [
    "## 4. 모델 시각화"
   ]
  },
  {
   "cell_type": "code",
   "execution_count": 27,
   "id": "4a0fc3ab",
   "metadata": {},
   "outputs": [],
   "source": [
    "# 'seaborn' package 로 K-Nearest Neighbors' 모델의 정확도 막대그래프 그리기"
   ]
  },
  {
   "cell_type": "markdown",
   "id": "18689a8a",
   "metadata": {},
   "source": [
    "## 2+a. 다양한 모델 적용해보기 "
   ]
  },
  {
   "cell_type": "code",
   "execution_count": 28,
   "id": "4d34b82f",
   "metadata": {},
   "outputs": [],
   "source": [
    "# 모델 학습 결과를 저장할 dictionary 선언\n",
    "scores = {}"
   ]
  },
  {
   "cell_type": "markdown",
   "id": "7f47a04f",
   "metadata": {},
   "source": [
    "#### (2-1) K-Nearest Neighbors"
   ]
  },
  {
   "cell_type": "code",
   "execution_count": null,
   "id": "b6be8b9f",
   "metadata": {},
   "outputs": [],
   "source": []
  },
  {
   "cell_type": "markdown",
   "id": "189068ac",
   "metadata": {},
   "source": [
    "#### (2-2) Logistic Regression"
   ]
  },
  {
   "cell_type": "code",
   "execution_count": null,
   "id": "f1cfbdb3",
   "metadata": {},
   "outputs": [],
   "source": []
  },
  {
   "cell_type": "markdown",
   "id": "2a46d118",
   "metadata": {},
   "source": [
    "#### (2-3) Naive Bayes"
   ]
  },
  {
   "cell_type": "code",
   "execution_count": null,
   "id": "dda9d295",
   "metadata": {},
   "outputs": [],
   "source": []
  },
  {
   "cell_type": "markdown",
   "id": "1d588dd3",
   "metadata": {},
   "source": [
    "#### (2-4) SVM"
   ]
  },
  {
   "cell_type": "code",
   "execution_count": null,
   "id": "3e0b38b9",
   "metadata": {},
   "outputs": [],
   "source": []
  },
  {
   "cell_type": "markdown",
   "id": "a64e0781",
   "metadata": {},
   "source": [
    "#### (2-5) Decision Tree"
   ]
  },
  {
   "cell_type": "code",
   "execution_count": null,
   "id": "d7e6fc57",
   "metadata": {},
   "outputs": [],
   "source": []
  },
  {
   "cell_type": "markdown",
   "id": "6b259426",
   "metadata": {},
   "source": [
    "#### (2-6) Random Forest"
   ]
  },
  {
   "cell_type": "code",
   "execution_count": null,
   "id": "3591f174",
   "metadata": {},
   "outputs": [],
   "source": []
  },
  {
   "cell_type": "markdown",
   "id": "fc5832fa",
   "metadata": {},
   "source": [
    "#### (2-7) XGBoost"
   ]
  },
  {
   "cell_type": "code",
   "execution_count": 35,
   "id": "baac65ba",
   "metadata": {},
   "outputs": [
    {
     "name": "stdout",
     "output_type": "stream",
     "text": [
      "Requirement already satisfied: xgboost in /opt/homebrew/lib/python3.10/site-packages (1.7.5)\n",
      "Requirement already satisfied: scipy in /opt/homebrew/lib/python3.10/site-packages (from xgboost) (1.8.0)\n",
      "Requirement already satisfied: numpy in /opt/homebrew/lib/python3.10/site-packages (from xgboost) (1.23.5)\n",
      "\n",
      "\u001b[1m[\u001b[0m\u001b[34;49mnotice\u001b[0m\u001b[1;39;49m]\u001b[0m\u001b[39;49m A new release of pip is available: \u001b[0m\u001b[31;49m23.0\u001b[0m\u001b[39;49m -> \u001b[0m\u001b[32;49m23.1.2\u001b[0m\n",
      "\u001b[1m[\u001b[0m\u001b[34;49mnotice\u001b[0m\u001b[1;39;49m]\u001b[0m\u001b[39;49m To update, run: \u001b[0m\u001b[32;49mpython3.10 -m pip install --upgrade pip\u001b[0m\n",
      "Note: you may need to restart the kernel to use updated packages.\n"
     ]
    }
   ],
   "source": [
    "%pip install xgboost"
   ]
  },
  {
   "cell_type": "code",
   "execution_count": null,
   "id": "8c2bb7eb",
   "metadata": {},
   "outputs": [],
   "source": []
  },
  {
   "cell_type": "markdown",
   "id": "a45b874f",
   "metadata": {},
   "source": [
    "#### (2-8) Neural Network"
   ]
  },
  {
   "cell_type": "code",
   "execution_count": 37,
   "id": "06972389",
   "metadata": {},
   "outputs": [
    {
     "name": "stdout",
     "output_type": "stream",
     "text": [
      "Requirement already satisfied: keras in /opt/homebrew/lib/python3.10/site-packages (2.13.1rc0)\n",
      "\n",
      "\u001b[1m[\u001b[0m\u001b[34;49mnotice\u001b[0m\u001b[1;39;49m]\u001b[0m\u001b[39;49m A new release of pip is available: \u001b[0m\u001b[31;49m23.0\u001b[0m\u001b[39;49m -> \u001b[0m\u001b[32;49m23.1.2\u001b[0m\n",
      "\u001b[1m[\u001b[0m\u001b[34;49mnotice\u001b[0m\u001b[1;39;49m]\u001b[0m\u001b[39;49m To update, run: \u001b[0m\u001b[32;49mpython3.10 -m pip install --upgrade pip\u001b[0m\n",
      "Note: you may need to restart the kernel to use updated packages.\n",
      "Requirement already satisfied: tensorflow in /opt/homebrew/lib/python3.10/site-packages (2.13.0rc1)\n",
      "Requirement already satisfied: tensorflow-macos==2.13.0-rc1 in /opt/homebrew/lib/python3.10/site-packages (from tensorflow) (2.13.0rc1)\n",
      "Requirement already satisfied: tensorflow-estimator<2.14,>=2.13.0rc0 in /opt/homebrew/lib/python3.10/site-packages (from tensorflow-macos==2.13.0-rc1->tensorflow) (2.13.0rc0)\n",
      "Requirement already satisfied: protobuf!=4.21.0,!=4.21.1,!=4.21.2,!=4.21.3,!=4.21.4,!=4.21.5,<5.0.0dev,>=3.20.3 in /opt/homebrew/lib/python3.10/site-packages (from tensorflow-macos==2.13.0-rc1->tensorflow) (4.21.10)\n",
      "Requirement already satisfied: libclang>=13.0.0 in /opt/homebrew/lib/python3.10/site-packages (from tensorflow-macos==2.13.0-rc1->tensorflow) (16.0.0)\n",
      "Requirement already satisfied: tensorboard<2.14,>=2.13 in /opt/homebrew/lib/python3.10/site-packages (from tensorflow-macos==2.13.0-rc1->tensorflow) (2.13.0)\n",
      "Requirement already satisfied: termcolor>=1.1.0 in /opt/homebrew/lib/python3.10/site-packages (from tensorflow-macos==2.13.0-rc1->tensorflow) (2.3.0)\n",
      "Requirement already satisfied: h5py>=2.9.0 in /opt/homebrew/lib/python3.10/site-packages (from tensorflow-macos==2.13.0-rc1->tensorflow) (3.8.0)\n",
      "Requirement already satisfied: absl-py>=1.0.0 in /opt/homebrew/lib/python3.10/site-packages (from tensorflow-macos==2.13.0-rc1->tensorflow) (1.4.0)\n",
      "Requirement already satisfied: opt-einsum>=2.3.2 in /opt/homebrew/lib/python3.10/site-packages (from tensorflow-macos==2.13.0-rc1->tensorflow) (3.3.0)\n",
      "Requirement already satisfied: typing-extensions>=3.6.6 in /opt/homebrew/lib/python3.10/site-packages (from tensorflow-macos==2.13.0-rc1->tensorflow) (4.4.0)\n",
      "Requirement already satisfied: six>=1.12.0 in /opt/homebrew/lib/python3.10/site-packages (from tensorflow-macos==2.13.0-rc1->tensorflow) (1.12.0)\n",
      "Requirement already satisfied: astunparse>=1.6.0 in /opt/homebrew/lib/python3.10/site-packages (from tensorflow-macos==2.13.0-rc1->tensorflow) (1.6.3)\n",
      "Requirement already satisfied: flatbuffers>=23.1.21 in /opt/homebrew/lib/python3.10/site-packages (from tensorflow-macos==2.13.0-rc1->tensorflow) (23.5.26)\n",
      "Requirement already satisfied: google-pasta>=0.1.1 in /opt/homebrew/lib/python3.10/site-packages (from tensorflow-macos==2.13.0-rc1->tensorflow) (0.2.0)\n",
      "Requirement already satisfied: setuptools in /opt/homebrew/lib/python3.10/site-packages (from tensorflow-macos==2.13.0-rc1->tensorflow) (67.2.0)\n",
      "Requirement already satisfied: gast<=0.4.0,>=0.2.1 in /opt/homebrew/lib/python3.10/site-packages (from tensorflow-macos==2.13.0-rc1->tensorflow) (0.4.0)\n",
      "Requirement already satisfied: keras<2.14,>=2.13.1rc0 in /opt/homebrew/lib/python3.10/site-packages (from tensorflow-macos==2.13.0-rc1->tensorflow) (2.13.1rc0)\n",
      "Requirement already satisfied: packaging in /opt/homebrew/lib/python3.10/site-packages (from tensorflow-macos==2.13.0-rc1->tensorflow) (23.1)\n",
      "Requirement already satisfied: grpcio<2.0,>=1.24.3 in /opt/homebrew/lib/python3.10/site-packages (from tensorflow-macos==2.13.0-rc1->tensorflow) (1.54.2)\n",
      "Requirement already satisfied: wrapt>=1.11.0 in /opt/homebrew/lib/python3.10/site-packages (from tensorflow-macos==2.13.0-rc1->tensorflow) (1.15.0)\n",
      "Requirement already satisfied: numpy>=1.22 in /opt/homebrew/lib/python3.10/site-packages (from tensorflow-macos==2.13.0-rc1->tensorflow) (1.23.5)\n",
      "Requirement already satisfied: wheel<1.0,>=0.23.0 in /opt/homebrew/lib/python3.10/site-packages (from astunparse>=1.6.0->tensorflow-macos==2.13.0-rc1->tensorflow) (0.38.4)\n",
      "Requirement already satisfied: google-auth-oauthlib<1.1,>=0.5 in /opt/homebrew/lib/python3.10/site-packages (from tensorboard<2.14,>=2.13->tensorflow-macos==2.13.0-rc1->tensorflow) (1.0.0)\n",
      "Requirement already satisfied: tensorboard-data-server<0.8.0,>=0.7.0 in /opt/homebrew/lib/python3.10/site-packages (from tensorboard<2.14,>=2.13->tensorflow-macos==2.13.0-rc1->tensorflow) (0.7.0)\n",
      "Requirement already satisfied: google-auth<3,>=1.6.3 in /opt/homebrew/lib/python3.10/site-packages (from tensorboard<2.14,>=2.13->tensorflow-macos==2.13.0-rc1->tensorflow) (2.18.1)\n",
      "Requirement already satisfied: markdown>=2.6.8 in /opt/homebrew/lib/python3.10/site-packages (from tensorboard<2.14,>=2.13->tensorflow-macos==2.13.0-rc1->tensorflow) (3.3.7)\n",
      "Requirement already satisfied: werkzeug>=1.0.1 in /opt/homebrew/lib/python3.10/site-packages (from tensorboard<2.14,>=2.13->tensorflow-macos==2.13.0-rc1->tensorflow) (2.2.2)\n",
      "Requirement already satisfied: requests<3,>=2.21.0 in /opt/homebrew/lib/python3.10/site-packages (from tensorboard<2.14,>=2.13->tensorflow-macos==2.13.0-rc1->tensorflow) (2.30.0)\n",
      "Requirement already satisfied: pyasn1-modules>=0.2.1 in /opt/homebrew/lib/python3.10/site-packages (from google-auth<3,>=1.6.3->tensorboard<2.14,>=2.13->tensorflow-macos==2.13.0-rc1->tensorflow) (0.2.8)\n",
      "Requirement already satisfied: cachetools<6.0,>=2.0.0 in /opt/homebrew/lib/python3.10/site-packages (from google-auth<3,>=1.6.3->tensorboard<2.14,>=2.13->tensorflow-macos==2.13.0-rc1->tensorflow) (5.2.0)\n",
      "Requirement already satisfied: urllib3<2.0 in /opt/homebrew/lib/python3.10/site-packages (from google-auth<3,>=1.6.3->tensorboard<2.14,>=2.13->tensorflow-macos==2.13.0-rc1->tensorflow) (1.26.15)\n",
      "Requirement already satisfied: rsa<5,>=3.1.4 in /opt/homebrew/lib/python3.10/site-packages (from google-auth<3,>=1.6.3->tensorboard<2.14,>=2.13->tensorflow-macos==2.13.0-rc1->tensorflow) (4.9)\n",
      "Requirement already satisfied: requests-oauthlib>=0.7.0 in /opt/homebrew/lib/python3.10/site-packages (from google-auth-oauthlib<1.1,>=0.5->tensorboard<2.14,>=2.13->tensorflow-macos==2.13.0-rc1->tensorflow) (1.3.1)\n",
      "Requirement already satisfied: charset-normalizer<4,>=2 in /opt/homebrew/lib/python3.10/site-packages (from requests<3,>=2.21.0->tensorboard<2.14,>=2.13->tensorflow-macos==2.13.0-rc1->tensorflow) (3.1.0)\n",
      "Requirement already satisfied: idna<4,>=2.5 in /opt/homebrew/lib/python3.10/site-packages (from requests<3,>=2.21.0->tensorboard<2.14,>=2.13->tensorflow-macos==2.13.0-rc1->tensorflow) (2.8)\n",
      "Requirement already satisfied: certifi>=2017.4.17 in /opt/homebrew/lib/python3.10/site-packages (from requests<3,>=2.21.0->tensorboard<2.14,>=2.13->tensorflow-macos==2.13.0-rc1->tensorflow) (2022.9.24)\n",
      "Requirement already satisfied: MarkupSafe>=2.1.1 in /opt/homebrew/lib/python3.10/site-packages (from werkzeug>=1.0.1->tensorboard<2.14,>=2.13->tensorflow-macos==2.13.0-rc1->tensorflow) (2.1.1)\n",
      "Requirement already satisfied: pyasn1<0.5.0,>=0.4.6 in /opt/homebrew/lib/python3.10/site-packages (from pyasn1-modules>=0.2.1->google-auth<3,>=1.6.3->tensorboard<2.14,>=2.13->tensorflow-macos==2.13.0-rc1->tensorflow) (0.4.8)\n",
      "Requirement already satisfied: oauthlib>=3.0.0 in /opt/homebrew/lib/python3.10/site-packages (from requests-oauthlib>=0.7.0->google-auth-oauthlib<1.1,>=0.5->tensorboard<2.14,>=2.13->tensorflow-macos==2.13.0-rc1->tensorflow) (3.2.2)\n",
      "\n",
      "\u001b[1m[\u001b[0m\u001b[34;49mnotice\u001b[0m\u001b[1;39;49m]\u001b[0m\u001b[39;49m A new release of pip is available: \u001b[0m\u001b[31;49m23.0\u001b[0m\u001b[39;49m -> \u001b[0m\u001b[32;49m23.1.2\u001b[0m\n",
      "\u001b[1m[\u001b[0m\u001b[34;49mnotice\u001b[0m\u001b[1;39;49m]\u001b[0m\u001b[39;49m To update, run: \u001b[0m\u001b[32;49mpython3.10 -m pip install --upgrade pip\u001b[0m\n",
      "Note: you may need to restart the kernel to use updated packages.\n"
     ]
    }
   ],
   "source": [
    "%pip install keras\n",
    "%pip install tensorflow"
   ]
  },
  {
   "cell_type": "code",
   "execution_count": null,
   "id": "de25deb4",
   "metadata": {},
   "outputs": [],
   "source": []
  },
  {
   "cell_type": "markdown",
   "id": "cfe5664f",
   "metadata": {},
   "source": [
    "#### 모델 결과 비교"
   ]
  },
  {
   "cell_type": "code",
   "execution_count": 1,
   "id": "4002f871",
   "metadata": {},
   "outputs": [],
   "source": [
    "# 모델 결과 비교"
   ]
  },
  {
   "cell_type": "markdown",
   "id": "f6757bfc",
   "metadata": {},
   "source": [
    "## 4+a. 전체 모델 시각화"
   ]
  },
  {
   "cell_type": "code",
   "execution_count": 2,
   "id": "36fa54bd",
   "metadata": {},
   "outputs": [],
   "source": [
    "# 'seaborn' package 를 활용하여 모델 결과 막대 그래프 (bar plot) 로 그리기"
   ]
  },
  {
   "cell_type": "code",
   "execution_count": null,
   "id": "216c6e98",
   "metadata": {},
   "outputs": [],
   "source": []
  }
 ],
 "metadata": {
  "kernelspec": {
   "display_name": "Python 3 (ipykernel)",
   "language": "python",
   "name": "python3"
  },
  "language_info": {
   "codemirror_mode": {
    "name": "ipython",
    "version": 3
   },
   "file_extension": ".py",
   "mimetype": "text/x-python",
   "name": "python",
   "nbconvert_exporter": "python",
   "pygments_lexer": "ipython3",
   "version": "3.10.10"
  }
 },
 "nbformat": 4,
 "nbformat_minor": 5
}
