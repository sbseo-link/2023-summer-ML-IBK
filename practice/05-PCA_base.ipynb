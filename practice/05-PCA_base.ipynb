{
 "cells": [
  {
   "cell_type": "markdown",
   "id": "29492237",
   "metadata": {},
   "source": [
    "# 05. PCA"
   ]
  },
  {
   "cell_type": "markdown",
   "id": "0c2f66f6",
   "metadata": {},
   "source": [
    "## (1) 데이터 로드"
   ]
  },
  {
   "cell_type": "code",
   "execution_count": 1,
   "id": "5630daef",
   "metadata": {},
   "outputs": [],
   "source": [
    "# pandas 로 heart.csv 데이터 로드"
   ]
  },
  {
   "cell_type": "code",
   "execution_count": 2,
   "id": "46e271ab",
   "metadata": {},
   "outputs": [],
   "source": [
    "# feature columns 와 target column 분리하기"
   ]
  },
  {
   "cell_type": "markdown",
   "id": "c21c49b1",
   "metadata": {},
   "source": [
    "#### (1-1) PCA"
   ]
  },
  {
   "cell_type": "code",
   "execution_count": 3,
   "id": "036bfa64",
   "metadata": {},
   "outputs": [],
   "source": [
    "# sklearn 의 PCA 로 학습 하기 (K=10)"
   ]
  },
  {
   "cell_type": "code",
   "execution_count": 4,
   "id": "5ffecdcf",
   "metadata": {},
   "outputs": [],
   "source": [
    "# PCA componet 및 shape 확인하기"
   ]
  },
  {
   "cell_type": "code",
   "execution_count": 5,
   "id": "25611b88",
   "metadata": {},
   "outputs": [],
   "source": [
    "# PCA component 분산비율 확인하기"
   ]
  },
  {
   "cell_type": "code",
   "execution_count": 6,
   "id": "85ea204c",
   "metadata": {},
   "outputs": [],
   "source": [
    "# component 총합구하기"
   ]
  },
  {
   "cell_type": "code",
   "execution_count": 7,
   "id": "309fee79",
   "metadata": {},
   "outputs": [],
   "source": [
    "# matploblib.pyplot 으로 각 component 별 중요도 그래프 그리기"
   ]
  },
  {
   "cell_type": "code",
   "execution_count": 8,
   "id": "0f1eeede",
   "metadata": {},
   "outputs": [],
   "source": [
    "# component 의 중요도 높은 순으로 누적합 그래프 그리기"
   ]
  },
  {
   "cell_type": "code",
   "execution_count": 9,
   "id": "49690b2f",
   "metadata": {},
   "outputs": [],
   "source": [
    "# 원본 데이터의 features columns 를 PCA component 로 변환하기"
   ]
  },
  {
   "cell_type": "code",
   "execution_count": 10,
   "id": "4030d2aa",
   "metadata": {},
   "outputs": [],
   "source": [
    "# PCA 변환된 데이터 확인 및 shape 확인하기"
   ]
  },
  {
   "cell_type": "code",
   "execution_count": 11,
   "id": "9f7d498e",
   "metadata": {},
   "outputs": [],
   "source": [
    "# 'pca_data' 와 'data_target' 를 train 과 test 비율 8:2 로 데이터를 나누기"
   ]
  },
  {
   "cell_type": "markdown",
   "id": "009b3093",
   "metadata": {},
   "source": [
    "## 2. 모델 훈련 및 정확도 검증"
   ]
  },
  {
   "cell_type": "markdown",
   "id": "8fcdf9c6",
   "metadata": {},
   "source": [
    "#### (2-1) K-Nearest Neighbors"
   ]
  },
  {
   "cell_type": "code",
   "execution_count": 12,
   "id": "5d1b105f",
   "metadata": {},
   "outputs": [],
   "source": [
    "# python 'sklearn' package 를 활용하여 'K-Nearest Neighbors' 모델 정의"
   ]
  },
  {
   "cell_type": "code",
   "execution_count": 13,
   "id": "9d59bf73",
   "metadata": {},
   "outputs": [],
   "source": [
    "# 'knn' 모델에 x_train 학습"
   ]
  },
  {
   "cell_type": "code",
   "execution_count": 14,
   "id": "7c0e8dff",
   "metadata": {},
   "outputs": [],
   "source": [
    "# 학습한 'knn' 모델에 x_test 테스트"
   ]
  },
  {
   "cell_type": "code",
   "execution_count": 15,
   "id": "1291dfdc",
   "metadata": {},
   "outputs": [],
   "source": [
    "# x_test 결과와 y_test 비교"
   ]
  },
  {
   "cell_type": "markdown",
   "id": "4dee06cf",
   "metadata": {},
   "source": [
    "#### (2-2) Logistic Regression"
   ]
  },
  {
   "cell_type": "code",
   "execution_count": 16,
   "id": "a9f151fd",
   "metadata": {},
   "outputs": [],
   "source": [
    "# python 'sklearn' package 를 활용하여 Logistic Regression 모델로 학습하기"
   ]
  },
  {
   "cell_type": "markdown",
   "id": "1b68c61b",
   "metadata": {},
   "source": [
    "## 3. PCA 하지 않은 원본 데이터에 대해 '2. 모델 훈련 및 정확도 검증' 진행하기"
   ]
  },
  {
   "cell_type": "code",
   "execution_count": 17,
   "id": "219ec5dc",
   "metadata": {},
   "outputs": [],
   "source": [
    "# 'data_features' 와 'data_target' 를 train 과 test 비율 8:2 로 데이터를 나누기"
   ]
  },
  {
   "cell_type": "code",
   "execution_count": 18,
   "id": "32c883b2",
   "metadata": {},
   "outputs": [],
   "source": [
    "# KNN"
   ]
  },
  {
   "cell_type": "code",
   "execution_count": 19,
   "id": "c6dab378",
   "metadata": {},
   "outputs": [],
   "source": [
    "# LOGISTIC REGRESSION"
   ]
  },
  {
   "cell_type": "markdown",
   "id": "c6e63937",
   "metadata": {},
   "source": [
    "## 4. 시각화"
   ]
  },
  {
   "cell_type": "code",
   "execution_count": 20,
   "id": "39dc3f27",
   "metadata": {},
   "outputs": [],
   "source": [
    "# 'seaborn' package 로 'PCA 적용한 KNN', 'PCA 적용하지 않은 KNN', 'PCA 적용한 Logistic Regression', 'PCA 적용하지 않은 Logistic Regression' 의 정확도를 비교하는 그래프 그리기"
   ]
  }
 ],
 "metadata": {
  "kernelspec": {
   "display_name": "Python 3 (ipykernel)",
   "language": "python",
   "name": "python3"
  },
  "language_info": {
   "codemirror_mode": {
    "name": "ipython",
    "version": 3
   },
   "file_extension": ".py",
   "mimetype": "text/x-python",
   "name": "python",
   "nbconvert_exporter": "python",
   "pygments_lexer": "ipython3",
   "version": "3.10.10"
  }
 },
 "nbformat": 4,
 "nbformat_minor": 5
}
