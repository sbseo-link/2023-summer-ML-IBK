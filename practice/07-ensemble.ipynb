{
 "cells": [
  {
   "cell_type": "markdown",
   "id": "8cffe692",
   "metadata": {},
   "source": [
    "# Ensemble"
   ]
  },
  {
   "cell_type": "markdown",
   "id": "61232dcf",
   "metadata": {},
   "source": [
    "## I. manual"
   ]
  },
  {
   "cell_type": "code",
   "execution_count": 1,
   "id": "7973e5d9",
   "metadata": {},
   "outputs": [],
   "source": [
    "# Load \"heart.csv\" data"
   ]
  },
  {
   "cell_type": "code",
   "execution_count": 2,
   "id": "9f9fec23",
   "metadata": {},
   "outputs": [],
   "source": [
    "# train test split data ('data' 에서 'target' column 을 제거한 나머지 columns 로 새로운 dataframe 'predictor_columns' 를 만들고, 'taregt' column 만 존재하는 새로운 dataframe 'target_column' 만들기)"
   ]
  },
  {
   "cell_type": "code",
   "execution_count": 3,
   "id": "2f020d82",
   "metadata": {},
   "outputs": [],
   "source": [
    "# 'predictor_columns' 와 'target_column' 를 train 과 test 비율 8:2 로 데이터를 나누기"
   ]
  },
  {
   "cell_type": "code",
   "execution_count": 4,
   "id": "1e593a55",
   "metadata": {},
   "outputs": [],
   "source": [
    "# train [\"KNeighborsClassifier\", \"svm.SVC\", \"DecisionTreeClassifier\"]"
   ]
  },
  {
   "cell_type": "code",
   "execution_count": 5,
   "id": "d7ba665e",
   "metadata": {},
   "outputs": [],
   "source": [
    "# test on each algorithm and print 'accuracy_score' of each"
   ]
  },
  {
   "cell_type": "code",
   "execution_count": 6,
   "id": "4b176da0",
   "metadata": {},
   "outputs": [],
   "source": [
    "# print predictions of each model"
   ]
  },
  {
   "cell_type": "code",
   "execution_count": 7,
   "id": "049a4a51",
   "metadata": {},
   "outputs": [],
   "source": [
    "# sum all predicted results"
   ]
  },
  {
   "cell_type": "code",
   "execution_count": 8,
   "id": "913281cd",
   "metadata": {},
   "outputs": [],
   "source": [
    "# div sum of all predicted results with the number of models"
   ]
  },
  {
   "cell_type": "code",
   "execution_count": 9,
   "id": "e0810639",
   "metadata": {},
   "outputs": [],
   "source": [
    "# classify the result above as 1 if value is above 0.5 else 0"
   ]
  },
  {
   "cell_type": "code",
   "execution_count": 10,
   "id": "f125fa8f",
   "metadata": {},
   "outputs": [],
   "source": [
    "# score with the real label"
   ]
  },
  {
   "cell_type": "markdown",
   "id": "a737ffe9",
   "metadata": {},
   "source": [
    "## II. sklearn ensemble"
   ]
  },
  {
   "cell_type": "code",
   "execution_count": 11,
   "id": "8ce9b694",
   "metadata": {},
   "outputs": [],
   "source": [
    "# Load \"heart.csv\" data"
   ]
  },
  {
   "cell_type": "code",
   "execution_count": 12,
   "id": "e4884812",
   "metadata": {},
   "outputs": [],
   "source": [
    "# train test split data ('data' 에서 'target' column 을 제거한 나머지 columns 로 새로운 dataframe 'predictor_columns' 를 만들고, 'taregt' column 만 존재하는 새로운 dataframe 'target_column' 만들기)"
   ]
  },
  {
   "cell_type": "code",
   "execution_count": 13,
   "id": "8cec045f",
   "metadata": {},
   "outputs": [],
   "source": [
    "# 'predictor_columns' 와 'target_column' 를 train 과 test 비율 8:2 로 데이터를 나누기"
   ]
  },
  {
   "cell_type": "code",
   "execution_count": 14,
   "id": "f3197caa",
   "metadata": {},
   "outputs": [],
   "source": [
    "# create model [\"KNeighborsClassifier\", \"svm.SVC\", \"DecisionTreeClassifier\"]"
   ]
  },
  {
   "cell_type": "code",
   "execution_count": 15,
   "id": "cbe8d62b",
   "metadata": {},
   "outputs": [],
   "source": [
    "# create ensemble model with the models above"
   ]
  },
  {
   "cell_type": "code",
   "execution_count": 16,
   "id": "50399602",
   "metadata": {},
   "outputs": [],
   "source": [
    "# train ensemble model with the models above"
   ]
  },
  {
   "cell_type": "code",
   "execution_count": 17,
   "id": "17e9ca31",
   "metadata": {},
   "outputs": [],
   "source": [
    "# test the ensemble modle"
   ]
  },
  {
   "cell_type": "code",
   "execution_count": 18,
   "id": "cbf92374",
   "metadata": {},
   "outputs": [],
   "source": [
    "# evaluate accuracy"
   ]
  }
 ],
 "metadata": {
  "kernelspec": {
   "display_name": "Python 3 (ipykernel)",
   "language": "python",
   "name": "python3"
  },
  "language_info": {
   "codemirror_mode": {
    "name": "ipython",
    "version": 3
   },
   "file_extension": ".py",
   "mimetype": "text/x-python",
   "name": "python",
   "nbconvert_exporter": "python",
   "pygments_lexer": "ipython3",
   "version": "3.10.10"
  }
 },
 "nbformat": 4,
 "nbformat_minor": 5
}
