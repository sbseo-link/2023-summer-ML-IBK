{
 "cells": [
  {
   "cell_type": "markdown",
   "id": "8cffe692",
   "metadata": {},
   "source": [
    "# Ensemble"
   ]
  },
  {
   "cell_type": "markdown",
   "id": "61232dcf",
   "metadata": {},
   "source": [
    "## I. manual"
   ]
  },
  {
   "cell_type": "code",
   "execution_count": 7,
   "id": "7973e5d9",
   "metadata": {},
   "outputs": [],
   "source": [
    "# Load \"heart.csv\" data\n",
    "import pandas as pd\n",
    "\n",
    "data = pd.read_csv(\"../src/heart.csv\")"
   ]
  },
  {
   "cell_type": "code",
   "execution_count": 8,
   "id": "9f9fec23",
   "metadata": {},
   "outputs": [
    {
     "name": "stdout",
     "output_type": "stream",
     "text": [
      "      age  sex  cp  trestbps  chol  fbs  restecg  thalach  exang  oldpeak  \\\n",
      "0      52    1   0       125   212    0        1      168      0      1.0   \n",
      "1      53    1   0       140   203    1        0      155      1      3.1   \n",
      "2      70    1   0       145   174    0        1      125      1      2.6   \n",
      "3      61    1   0       148   203    0        1      161      0      0.0   \n",
      "4      62    0   0       138   294    1        1      106      0      1.9   \n",
      "...   ...  ...  ..       ...   ...  ...      ...      ...    ...      ...   \n",
      "1020   59    1   1       140   221    0        1      164      1      0.0   \n",
      "1021   60    1   0       125   258    0        0      141      1      2.8   \n",
      "1022   47    1   0       110   275    0        0      118      1      1.0   \n",
      "1023   50    0   0       110   254    0        0      159      0      0.0   \n",
      "1024   54    1   0       120   188    0        1      113      0      1.4   \n",
      "\n",
      "      slope  ca  thal  \n",
      "0         2   2     3  \n",
      "1         0   0     3  \n",
      "2         0   0     3  \n",
      "3         2   1     3  \n",
      "4         1   3     2  \n",
      "...     ...  ..   ...  \n",
      "1020      2   0     2  \n",
      "1021      1   1     3  \n",
      "1022      1   1     2  \n",
      "1023      2   0     2  \n",
      "1024      1   1     3  \n",
      "\n",
      "[1025 rows x 13 columns]\n",
      "0       0\n",
      "1       0\n",
      "2       0\n",
      "3       0\n",
      "4       0\n",
      "       ..\n",
      "1020    1\n",
      "1021    0\n",
      "1022    0\n",
      "1023    1\n",
      "1024    0\n",
      "Name: target, Length: 1025, dtype: int64\n"
     ]
    }
   ],
   "source": [
    "# train test split data ('data' 에서 'target' column 을 제거한 나머지 columns 로 새로운 dataframe 'predictor_columns' 를 만들고, 'taregt' column 만 존재하는 새로운 dataframe 'target_column' 만들기)\n",
    "from sklearn.model_selection import train_test_split\n",
    "\n",
    "predictor_columns = data.drop(\"target\",axis=1)\n",
    "target_column = data[\"target\"]\n",
    "\n",
    "print(predictor_columns)\n",
    "print(target_column)"
   ]
  },
  {
   "cell_type": "code",
   "execution_count": 9,
   "id": "2f020d82",
   "metadata": {},
   "outputs": [
    {
     "name": "stdout",
     "output_type": "stream",
     "text": [
      "     age  sex  cp  trestbps  chol  fbs  restecg  thalach  exang  oldpeak  \\\n",
      "304   52    0   2       136   196    0        0      169      0      0.1   \n",
      "65    59    1   3       170   288    0        0      159      0      0.2   \n",
      "252   55    1   0       132   353    0        1      132      1      1.2   \n",
      "53    49    1   2       120   188    0        1      139      0      2.0   \n",
      "769   71    0   2       110   265    1        0      130      0      0.0   \n",
      "..   ...  ...  ..       ...   ...  ...      ...      ...    ...      ...   \n",
      "447   55    1   0       160   289    0        0      145      1      0.8   \n",
      "693   63    0   1       140   195    0        1      179      0      0.0   \n",
      "732   51    1   2        94   227    0        1      154      1      0.0   \n",
      "461   48    1   2       124   255    1        1      175      0      0.0   \n",
      "888   60    0   0       150   258    0        0      157      0      2.6   \n",
      "\n",
      "     slope  ca  thal  \n",
      "304      1   0     2  \n",
      "65       1   0     3  \n",
      "252      1   1     3  \n",
      "53       1   3     3  \n",
      "769      2   1     2  \n",
      "..     ...  ..   ...  \n",
      "447      1   1     3  \n",
      "693      2   2     2  \n",
      "732      2   1     3  \n",
      "461      2   2     2  \n",
      "888      1   2     3  \n",
      "\n",
      "[820 rows x 13 columns]      age  sex  cp  trestbps  chol  fbs  restecg  thalach  exang  oldpeak  \\\n",
      "335   58    1   0       150   270    0        0      111      1      0.8   \n",
      "688   56    0   0       200   288    1        0      133      1      4.0   \n",
      "320   53    0   0       130   264    0        0      143      0      0.4   \n",
      "444   47    1   2       130   253    0        1      179      0      0.0   \n",
      "172   56    1   1       120   240    0        1      169      0      0.0   \n",
      "..   ...  ...  ..       ...   ...  ...      ...      ...    ...      ...   \n",
      "0     52    1   0       125   212    0        1      168      0      1.0   \n",
      "752   48    1   1       130   245    0        0      180      0      0.2   \n",
      "671   52    1   0       125   212    0        1      168      0      1.0   \n",
      "831   58    1   1       125   220    0        1      144      0      0.4   \n",
      "87    59    0   0       174   249    0        1      143      1      0.0   \n",
      "\n",
      "     slope  ca  thal  \n",
      "335      2   0     3  \n",
      "688      0   2     3  \n",
      "320      1   0     2  \n",
      "444      2   0     2  \n",
      "172      0   0     2  \n",
      "..     ...  ..   ...  \n",
      "0        2   2     3  \n",
      "752      1   0     2  \n",
      "671      2   2     3  \n",
      "831      1   4     3  \n",
      "87       1   0     2  \n",
      "\n",
      "[205 rows x 13 columns] 304    1\n",
      "65     0\n",
      "252    0\n",
      "53     0\n",
      "769    1\n",
      "      ..\n",
      "447    0\n",
      "693    1\n",
      "732    1\n",
      "461    1\n",
      "888    0\n",
      "Name: target, Length: 820, dtype: int64 335    0\n",
      "688    0\n",
      "320    1\n",
      "444    1\n",
      "172    1\n",
      "      ..\n",
      "0      0\n",
      "752    1\n",
      "671    0\n",
      "831    1\n",
      "87     0\n",
      "Name: target, Length: 205, dtype: int64\n"
     ]
    }
   ],
   "source": [
    "# 'predictor_columns' 와 'target_column' 를 train 과 test 비율 8:2 로 데이터를 나누기\n",
    "x_train, x_test, y_train, y_test = train_test_split(predictor_columns, target_column, test_size=0.20)\n",
    "print(x_train, x_test, y_train, y_test)"
   ]
  },
  {
   "cell_type": "code",
   "execution_count": 10,
   "id": "1e593a55",
   "metadata": {},
   "outputs": [
    {
     "data": {
      "text/html": [
       "<style>#sk-container-id-1 {color: black;background-color: white;}#sk-container-id-1 pre{padding: 0;}#sk-container-id-1 div.sk-toggleable {background-color: white;}#sk-container-id-1 label.sk-toggleable__label {cursor: pointer;display: block;width: 100%;margin-bottom: 0;padding: 0.3em;box-sizing: border-box;text-align: center;}#sk-container-id-1 label.sk-toggleable__label-arrow:before {content: \"▸\";float: left;margin-right: 0.25em;color: #696969;}#sk-container-id-1 label.sk-toggleable__label-arrow:hover:before {color: black;}#sk-container-id-1 div.sk-estimator:hover label.sk-toggleable__label-arrow:before {color: black;}#sk-container-id-1 div.sk-toggleable__content {max-height: 0;max-width: 0;overflow: hidden;text-align: left;background-color: #f0f8ff;}#sk-container-id-1 div.sk-toggleable__content pre {margin: 0.2em;color: black;border-radius: 0.25em;background-color: #f0f8ff;}#sk-container-id-1 input.sk-toggleable__control:checked~div.sk-toggleable__content {max-height: 200px;max-width: 100%;overflow: auto;}#sk-container-id-1 input.sk-toggleable__control:checked~label.sk-toggleable__label-arrow:before {content: \"▾\";}#sk-container-id-1 div.sk-estimator input.sk-toggleable__control:checked~label.sk-toggleable__label {background-color: #d4ebff;}#sk-container-id-1 div.sk-label input.sk-toggleable__control:checked~label.sk-toggleable__label {background-color: #d4ebff;}#sk-container-id-1 input.sk-hidden--visually {border: 0;clip: rect(1px 1px 1px 1px);clip: rect(1px, 1px, 1px, 1px);height: 1px;margin: -1px;overflow: hidden;padding: 0;position: absolute;width: 1px;}#sk-container-id-1 div.sk-estimator {font-family: monospace;background-color: #f0f8ff;border: 1px dotted black;border-radius: 0.25em;box-sizing: border-box;margin-bottom: 0.5em;}#sk-container-id-1 div.sk-estimator:hover {background-color: #d4ebff;}#sk-container-id-1 div.sk-parallel-item::after {content: \"\";width: 100%;border-bottom: 1px solid gray;flex-grow: 1;}#sk-container-id-1 div.sk-label:hover label.sk-toggleable__label {background-color: #d4ebff;}#sk-container-id-1 div.sk-serial::before {content: \"\";position: absolute;border-left: 1px solid gray;box-sizing: border-box;top: 0;bottom: 0;left: 50%;z-index: 0;}#sk-container-id-1 div.sk-serial {display: flex;flex-direction: column;align-items: center;background-color: white;padding-right: 0.2em;padding-left: 0.2em;position: relative;}#sk-container-id-1 div.sk-item {position: relative;z-index: 1;}#sk-container-id-1 div.sk-parallel {display: flex;align-items: stretch;justify-content: center;background-color: white;position: relative;}#sk-container-id-1 div.sk-item::before, #sk-container-id-1 div.sk-parallel-item::before {content: \"\";position: absolute;border-left: 1px solid gray;box-sizing: border-box;top: 0;bottom: 0;left: 50%;z-index: -1;}#sk-container-id-1 div.sk-parallel-item {display: flex;flex-direction: column;z-index: 1;position: relative;background-color: white;}#sk-container-id-1 div.sk-parallel-item:first-child::after {align-self: flex-end;width: 50%;}#sk-container-id-1 div.sk-parallel-item:last-child::after {align-self: flex-start;width: 50%;}#sk-container-id-1 div.sk-parallel-item:only-child::after {width: 0;}#sk-container-id-1 div.sk-dashed-wrapped {border: 1px dashed gray;margin: 0 0.4em 0.5em 0.4em;box-sizing: border-box;padding-bottom: 0.4em;background-color: white;}#sk-container-id-1 div.sk-label label {font-family: monospace;font-weight: bold;display: inline-block;line-height: 1.2em;}#sk-container-id-1 div.sk-label-container {text-align: center;}#sk-container-id-1 div.sk-container {/* jupyter's `normalize.less` sets `[hidden] { display: none; }` but bootstrap.min.css set `[hidden] { display: none !important; }` so we also need the `!important` here to be able to override the default hidden behavior on the sphinx rendered scikit-learn.org. See: https://github.com/scikit-learn/scikit-learn/issues/21755 */display: inline-block !important;position: relative;}#sk-container-id-1 div.sk-text-repr-fallback {display: none;}</style><div id=\"sk-container-id-1\" class=\"sk-top-container\"><div class=\"sk-text-repr-fallback\"><pre>DecisionTreeClassifier(random_state=50)</pre><b>In a Jupyter environment, please rerun this cell to show the HTML representation or trust the notebook. <br />On GitHub, the HTML representation is unable to render, please try loading this page with nbviewer.org.</b></div><div class=\"sk-container\" hidden><div class=\"sk-item\"><div class=\"sk-estimator sk-toggleable\"><input class=\"sk-toggleable__control sk-hidden--visually\" id=\"sk-estimator-id-1\" type=\"checkbox\" checked><label for=\"sk-estimator-id-1\" class=\"sk-toggleable__label sk-toggleable__label-arrow\">DecisionTreeClassifier</label><div class=\"sk-toggleable__content\"><pre>DecisionTreeClassifier(random_state=50)</pre></div></div></div></div></div>"
      ],
      "text/plain": [
       "DecisionTreeClassifier(random_state=50)"
      ]
     },
     "execution_count": 10,
     "metadata": {},
     "output_type": "execute_result"
    }
   ],
   "source": [
    "# train [\"KNeighborsClassifier\", \"svm.SVC\", \"DecisionTreeClassifier\"]\n",
    "from sklearn.neighbors import KNeighborsClassifier\n",
    "from sklearn import svm\n",
    "from sklearn.tree import DecisionTreeClassifier\n",
    "\n",
    "\n",
    "knn = KNeighborsClassifier(n_neighbors=7)\n",
    "knn.fit(x_train, y_train)\n",
    "\n",
    "sv = svm.SVC(kernel='linear')\n",
    "sv.fit(x_train, y_train)\n",
    "\n",
    "\n",
    "dt = DecisionTreeClassifier(random_state=50)\n",
    "dt.fit(x_train, y_train)"
   ]
  },
  {
   "cell_type": "code",
   "execution_count": 14,
   "id": "d7ba665e",
   "metadata": {},
   "outputs": [
    {
     "name": "stdout",
     "output_type": "stream",
     "text": [
      "{'knn': 76.59, 'sv': 86.83, 'dt': 100.0}\n"
     ]
    }
   ],
   "source": [
    "# test on each algorithm and print 'accuracy_score' of each\n",
    "from sklearn.metrics import accuracy_score\n",
    "\n",
    "\n",
    "scores = {}\n",
    "\n",
    "y_test_pred_knn = knn.predict(x_test)\n",
    "score_knn = round(accuracy_score(y_test_pred_knn, y_test)*100, 2)\n",
    "scores['knn'] = score_knn\n",
    "\n",
    "y_test_pred_svm = sv.predict(x_test)\n",
    "score_sv = round(accuracy_score(y_test_pred_svm, y_test)*100, 2)\n",
    "scores['sv'] = score_sv\n",
    "\n",
    "y_test_pred_dt = dt.predict(x_test)\n",
    "score_dt = round(accuracy_score(y_test_pred_dt, y_test)*100, 2)\n",
    "scores['dt'] = score_dt\n",
    "\n",
    "print(scores)"
   ]
  },
  {
   "cell_type": "code",
   "execution_count": 34,
   "id": "4b176da0",
   "metadata": {},
   "outputs": [
    {
     "name": "stdout",
     "output_type": "stream",
     "text": [
      "[0 0 0 1 1 1 1 0 1 0 1 0 0 0 0 0 0 0 1 0 1 0 1 1 1 0 0 1 1 1 0 0 0 0 0 0 1\n",
      " 0 1 1 1 0 0 0 1 0 0 1 1 0 0 1 1 0 0 1 1 1 1 0 1 0 1 1 1 1 1 0 1 0 0 1 1 0\n",
      " 1 0 1 1 0 0 0 1 0 1 0 0 0 1 0 0 0 0 0 1 1 1 0 0 1 0 1 1 1 1 1 1 0 0 0 1 1\n",
      " 1 0 1 1 0 0 1 1 1 1 1 0 0 1 0 0 0 1 0 1 0 1 1 0 0 1 1 1 1 1 0 0 0 0 0 0 1\n",
      " 0 0 1 0 0 0 1 0 1 0 1 1 0 0 0 1 0 1 0 1 0 0 1 1 0 1 1 1 1 0 1 1 0 0 0 1 0\n",
      " 0 0 0 1 1 1 1 0 0 0 1 1 1 1 0 1 1 1 0 1]\n",
      "[0 0 1 1 1 1 1 0 1 1 1 0 0 0 1 0 0 1 1 0 1 1 1 1 1 1 0 1 1 1 0 1 0 0 0 1 1\n",
      " 0 1 1 0 0 1 0 1 1 1 1 1 0 0 1 1 0 1 1 1 1 1 0 1 1 1 1 1 1 1 1 1 0 1 1 1 0\n",
      " 1 0 0 0 0 0 0 1 0 1 0 0 1 1 1 0 0 0 0 1 1 1 1 0 0 0 0 1 1 1 1 1 0 0 0 1 1\n",
      " 1 0 1 1 0 0 1 1 0 1 1 0 1 1 1 1 0 1 0 0 1 1 1 1 1 1 1 1 1 0 0 0 0 0 1 1 1\n",
      " 0 0 1 0 1 0 1 0 1 0 1 1 0 0 0 1 0 1 1 1 0 1 1 1 1 1 1 1 1 0 0 1 0 1 1 1 0\n",
      " 0 0 0 1 1 1 1 0 1 0 1 1 1 0 0 0 1 0 0 1]\n",
      "[0 0 1 1 1 1 1 0 1 1 0 0 0 0 1 0 0 1 1 0 1 1 1 1 0 1 0 1 1 1 0 0 0 0 0 1 1\n",
      " 0 1 1 0 0 0 0 1 0 1 1 0 0 0 1 1 0 1 1 1 1 1 0 1 0 1 1 1 1 0 1 1 1 1 1 1 0\n",
      " 1 0 0 0 0 0 0 1 0 1 0 0 1 1 1 0 0 0 0 0 1 1 1 1 0 0 0 1 1 1 1 1 0 0 0 1 0\n",
      " 1 0 1 1 0 0 0 1 0 1 1 0 1 1 1 1 0 1 0 1 1 1 1 0 1 1 1 0 0 0 0 0 0 0 1 0 1\n",
      " 0 0 1 0 0 0 1 0 1 0 1 1 0 0 0 1 0 1 1 1 0 0 1 1 1 1 1 1 1 1 0 1 0 0 1 1 0\n",
      " 0 0 0 1 1 1 0 0 0 0 1 1 1 1 0 0 1 0 1 0]\n",
      "<class 'numpy.ndarray'>\n"
     ]
    }
   ],
   "source": [
    "# print predictions of each model\n",
    "print(y_test_pred_knn)\n",
    "print(y_test_pred_svm)\n",
    "print(y_test_pred_dt)\n",
    "print(type(y_test_pred_dt))"
   ]
  },
  {
   "cell_type": "code",
   "execution_count": 37,
   "id": "049a4a51",
   "metadata": {},
   "outputs": [
    {
     "name": "stdout",
     "output_type": "stream",
     "text": [
      "[0 0 2 3 3 3 3 0 3 2 2 0 0 0 2 0 0 2 3 0 3 2 3 3 2 2 0 3 3 3 0 1 0 0 0 2 3\n",
      " 0 3 3 1 0 1 0 3 1 2 3 2 0 0 3 3 0 2 3 3 3 3 0 3 1 3 3 3 3 2 2 3 1 2 3 3 0\n",
      " 3 0 1 1 0 0 0 3 0 3 0 0 2 3 2 0 0 0 0 2 3 3 2 1 1 0 1 3 3 3 3 3 0 0 0 3 2\n",
      " 3 0 3 3 0 0 2 3 1 3 3 0 2 3 2 2 0 3 0 2 2 3 3 1 2 3 3 2 2 1 0 0 0 0 2 1 3\n",
      " 0 0 3 0 1 0 3 0 3 0 3 3 0 0 0 3 0 3 2 3 0 1 3 3 2 3 3 3 3 1 1 3 0 1 2 3 0\n",
      " 0 0 0 3 3 3 2 0 1 0 3 3 3 2 0 1 3 1 1 2]\n"
     ]
    }
   ],
   "source": [
    "# sum all predicted results\n",
    "result_sum = y_test_pred_knn + y_test_pred_svm + y_test_pred_dt\n",
    "print(result_sum)"
   ]
  },
  {
   "cell_type": "code",
   "execution_count": 38,
   "id": "913281cd",
   "metadata": {},
   "outputs": [
    {
     "name": "stdout",
     "output_type": "stream",
     "text": [
      "[0.         0.         0.66666667 1.         1.         1.\n",
      " 1.         0.         1.         0.66666667 0.66666667 0.\n",
      " 0.         0.         0.66666667 0.         0.         0.66666667\n",
      " 1.         0.         1.         0.66666667 1.         1.\n",
      " 0.66666667 0.66666667 0.         1.         1.         1.\n",
      " 0.         0.33333333 0.         0.         0.         0.66666667\n",
      " 1.         0.         1.         1.         0.33333333 0.\n",
      " 0.33333333 0.         1.         0.33333333 0.66666667 1.\n",
      " 0.66666667 0.         0.         1.         1.         0.\n",
      " 0.66666667 1.         1.         1.         1.         0.\n",
      " 1.         0.33333333 1.         1.         1.         1.\n",
      " 0.66666667 0.66666667 1.         0.33333333 0.66666667 1.\n",
      " 1.         0.         1.         0.         0.33333333 0.33333333\n",
      " 0.         0.         0.         1.         0.         1.\n",
      " 0.         0.         0.66666667 1.         0.66666667 0.\n",
      " 0.         0.         0.         0.66666667 1.         1.\n",
      " 0.66666667 0.33333333 0.33333333 0.         0.33333333 1.\n",
      " 1.         1.         1.         1.         0.         0.\n",
      " 0.         1.         0.66666667 1.         0.         1.\n",
      " 1.         0.         0.         0.66666667 1.         0.33333333\n",
      " 1.         1.         0.         0.66666667 1.         0.66666667\n",
      " 0.66666667 0.         1.         0.         0.66666667 0.66666667\n",
      " 1.         1.         0.33333333 0.66666667 1.         1.\n",
      " 0.66666667 0.66666667 0.33333333 0.         0.         0.\n",
      " 0.         0.66666667 0.33333333 1.         0.         0.\n",
      " 1.         0.         0.33333333 0.         1.         0.\n",
      " 1.         0.         1.         1.         0.         0.\n",
      " 0.         1.         0.         1.         0.66666667 1.\n",
      " 0.         0.33333333 1.         1.         0.66666667 1.\n",
      " 1.         1.         1.         0.33333333 0.33333333 1.\n",
      " 0.         0.33333333 0.66666667 1.         0.         0.\n",
      " 0.         0.         1.         1.         1.         0.66666667\n",
      " 0.         0.33333333 0.         1.         1.         1.\n",
      " 0.66666667 0.         0.33333333 1.         0.33333333 0.33333333\n",
      " 0.66666667]\n"
     ]
    }
   ],
   "source": [
    "# div sum of all predicted results with the number of models\n",
    "result_sum_div = result_sum / 3\n",
    "print(result_sum_div)"
   ]
  },
  {
   "cell_type": "code",
   "execution_count": 39,
   "id": "e0810639",
   "metadata": {},
   "outputs": [
    {
     "name": "stdout",
     "output_type": "stream",
     "text": [
      "[0. 0. 1. 1. 1. 1. 1. 0. 1. 1. 1. 0. 0. 0. 1. 0. 0. 1. 1. 0. 1. 1. 1. 1.\n",
      " 1. 1. 0. 1. 1. 1. 0. 0. 0. 0. 0. 1. 1. 0. 1. 1. 0. 0. 0. 0. 1. 0. 1. 1.\n",
      " 1. 0. 0. 1. 1. 0. 1. 1. 1. 1. 1. 0. 1. 0. 1. 1. 1. 1. 1. 1. 1. 0. 1. 1.\n",
      " 1. 0. 1. 0. 0. 0. 0. 0. 0. 1. 0. 1. 0. 0. 1. 1. 1. 0. 0. 0. 0. 1. 1. 1.\n",
      " 1. 0. 0. 0. 0. 1. 1. 1. 1. 1. 0. 0. 0. 1. 1. 1. 0. 1. 1. 0. 0. 1. 1. 0.\n",
      " 1. 1. 0. 1. 1. 1. 1. 0. 1. 0. 1. 1. 1. 1. 0. 1. 1. 1. 1. 1. 0. 0. 0. 0.\n",
      " 0. 1. 0. 1. 0. 0. 1. 0. 0. 0. 1. 0. 1. 0. 1. 1. 0. 0. 0. 1. 0. 1. 1. 1.\n",
      " 0. 0. 1. 1. 1. 1. 1. 1. 1. 0. 0. 1. 0. 0. 1. 1. 0. 0. 0. 0. 1. 1. 1. 1.\n",
      " 0. 0. 0. 1. 1. 1. 1. 0. 0. 1. 0. 0. 1.]\n"
     ]
    }
   ],
   "source": [
    "# classify the result above as 1 if value is above 0.5 else 0\n",
    "result_sum_div[result_sum_div > 0.5] = 1\n",
    "result_sum_div[result_sum_div <= 0.5] = 0\n",
    "print(result_sum_div)"
   ]
  },
  {
   "cell_type": "code",
   "execution_count": 41,
   "id": "f125fa8f",
   "metadata": {},
   "outputs": [
    {
     "name": "stdout",
     "output_type": "stream",
     "text": [
      "92.68\n"
     ]
    }
   ],
   "source": [
    "# score with the real label\n",
    "score_ensemble = round(accuracy_score(result_sum_div, y_test)*100,2)\n",
    "print(score_ensemble)"
   ]
  },
  {
   "cell_type": "markdown",
   "id": "a737ffe9",
   "metadata": {},
   "source": [
    "## II. sklearn ensemble"
   ]
  },
  {
   "cell_type": "code",
   "execution_count": 42,
   "id": "8ce9b694",
   "metadata": {},
   "outputs": [],
   "source": [
    "# Load \"heart.csv\" data\n",
    "import pandas as pd\n",
    "\n",
    "data = pd.read_csv(\"../src/heart.csv\")"
   ]
  },
  {
   "cell_type": "code",
   "execution_count": 43,
   "id": "e4884812",
   "metadata": {},
   "outputs": [
    {
     "name": "stdout",
     "output_type": "stream",
     "text": [
      "      age  sex  cp  trestbps  chol  fbs  restecg  thalach  exang  oldpeak  \\\n",
      "0      52    1   0       125   212    0        1      168      0      1.0   \n",
      "1      53    1   0       140   203    1        0      155      1      3.1   \n",
      "2      70    1   0       145   174    0        1      125      1      2.6   \n",
      "3      61    1   0       148   203    0        1      161      0      0.0   \n",
      "4      62    0   0       138   294    1        1      106      0      1.9   \n",
      "...   ...  ...  ..       ...   ...  ...      ...      ...    ...      ...   \n",
      "1020   59    1   1       140   221    0        1      164      1      0.0   \n",
      "1021   60    1   0       125   258    0        0      141      1      2.8   \n",
      "1022   47    1   0       110   275    0        0      118      1      1.0   \n",
      "1023   50    0   0       110   254    0        0      159      0      0.0   \n",
      "1024   54    1   0       120   188    0        1      113      0      1.4   \n",
      "\n",
      "      slope  ca  thal  \n",
      "0         2   2     3  \n",
      "1         0   0     3  \n",
      "2         0   0     3  \n",
      "3         2   1     3  \n",
      "4         1   3     2  \n",
      "...     ...  ..   ...  \n",
      "1020      2   0     2  \n",
      "1021      1   1     3  \n",
      "1022      1   1     2  \n",
      "1023      2   0     2  \n",
      "1024      1   1     3  \n",
      "\n",
      "[1025 rows x 13 columns]\n",
      "0       0\n",
      "1       0\n",
      "2       0\n",
      "3       0\n",
      "4       0\n",
      "       ..\n",
      "1020    1\n",
      "1021    0\n",
      "1022    0\n",
      "1023    1\n",
      "1024    0\n",
      "Name: target, Length: 1025, dtype: int64\n"
     ]
    }
   ],
   "source": [
    "# train test split data ('data' 에서 'target' column 을 제거한 나머지 columns 로 새로운 dataframe 'predictor_columns' 를 만들고, 'taregt' column 만 존재하는 새로운 dataframe 'target_column' 만들기)\n",
    "from sklearn.model_selection import train_test_split\n",
    "\n",
    "predictor_columns = data.drop(\"target\",axis=1)\n",
    "target_column = data[\"target\"]\n",
    "\n",
    "print(predictor_columns)\n",
    "print(target_column)"
   ]
  },
  {
   "cell_type": "code",
   "execution_count": 44,
   "id": "8cec045f",
   "metadata": {},
   "outputs": [
    {
     "name": "stdout",
     "output_type": "stream",
     "text": [
      "     age  sex  cp  trestbps  chol  fbs  restecg  thalach  exang  oldpeak  \\\n",
      "59    57    1   1       154   232    0        0      164      0      0.0   \n",
      "179   56    0   0       134   409    0        0      150      1      1.9   \n",
      "798   59    1   3       170   288    0        0      159      0      0.2   \n",
      "886   61    1   0       120   260    0        1      140      1      3.6   \n",
      "129   57    1   0       140   192    0        1      148      0      0.4   \n",
      "..   ...  ...  ..       ...   ...  ...      ...      ...    ...      ...   \n",
      "455   69    1   3       160   234    1        0      131      0      0.1   \n",
      "436   59    0   0       174   249    0        1      143      1      0.0   \n",
      "754   51    0   2       130   256    0        0      149      0      0.5   \n",
      "660   61    1   0       138   166    0        0      125      1      3.6   \n",
      "230   58    1   0       125   300    0        0      171      0      0.0   \n",
      "\n",
      "     slope  ca  thal  \n",
      "59       2   1     2  \n",
      "179      1   2     3  \n",
      "798      1   0     3  \n",
      "886      1   1     3  \n",
      "129      1   0     1  \n",
      "..     ...  ..   ...  \n",
      "455      1   1     2  \n",
      "436      1   0     2  \n",
      "754      2   0     2  \n",
      "660      1   1     2  \n",
      "230      2   2     3  \n",
      "\n",
      "[820 rows x 13 columns]       age  sex  cp  trestbps  chol  fbs  restecg  thalach  exang  oldpeak  \\\n",
      "38     64    1   0       128   263    0        1      105      1      0.2   \n",
      "22     45    1   0       104   208    0        0      148      1      3.0   \n",
      "513    54    1   0       110   206    0        0      108      1      0.0   \n",
      "542    62    0   0       140   394    0        0      157      0      1.2   \n",
      "926    54    1   0       110   206    0        0      108      1      0.0   \n",
      "...   ...  ...  ..       ...   ...  ...      ...      ...    ...      ...   \n",
      "257    64    0   0       180   325    0        1      154      1      0.0   \n",
      "829    54    1   0       124   266    0        0      109      1      2.2   \n",
      "288    58    0   2       120   340    0        1      172      0      0.0   \n",
      "825    63    0   2       135   252    0        0      172      0      0.0   \n",
      "1007   56    1   3       120   193    0        0      162      0      1.9   \n",
      "\n",
      "      slope  ca  thal  \n",
      "38        1   1     3  \n",
      "22        1   0     2  \n",
      "513       1   1     2  \n",
      "542       1   0     2  \n",
      "926       1   1     2  \n",
      "...     ...  ..   ...  \n",
      "257       2   0     2  \n",
      "829       1   1     3  \n",
      "288       2   0     2  \n",
      "825       2   0     2  \n",
      "1007      1   0     3  \n",
      "\n",
      "[205 rows x 13 columns] 59     0\n",
      "179    0\n",
      "798    0\n",
      "886    0\n",
      "129    1\n",
      "      ..\n",
      "455    1\n",
      "436    0\n",
      "754    1\n",
      "660    0\n",
      "230    0\n",
      "Name: target, Length: 820, dtype: int64 38      1\n",
      "22      1\n",
      "513     0\n",
      "542     1\n",
      "926     0\n",
      "       ..\n",
      "257     1\n",
      "829     0\n",
      "288     1\n",
      "825     1\n",
      "1007    1\n",
      "Name: target, Length: 205, dtype: int64\n"
     ]
    }
   ],
   "source": [
    "# 'predictor_columns' 와 'target_column' 를 train 과 test 비율 8:2 로 데이터를 나누기\n",
    "x_train, x_test, y_train, y_test = train_test_split(predictor_columns, target_column, test_size=0.20)\n",
    "print(x_train, x_test, y_train, y_test)"
   ]
  },
  {
   "cell_type": "code",
   "execution_count": 49,
   "id": "f3197caa",
   "metadata": {},
   "outputs": [],
   "source": [
    "# create model [\"KNeighborsClassifier\", \"svm.SVC\", \"DecisionTreeClassifier\"]\n",
    "from sklearn.tree import DecisionTreeClassifier\n",
    "from sklearn.neighbors import KNeighborsClassifier\n",
    "from sklearn import svm\n",
    "\n",
    "knn = KNeighborsClassifier(7)\n",
    "sv = svm.SVC(kernel='linear')\n",
    "dt = DecisionTreeClassifier(random_state=50)"
   ]
  },
  {
   "cell_type": "code",
   "execution_count": 51,
   "id": "cbe8d62b",
   "metadata": {},
   "outputs": [
    {
     "name": "stdout",
     "output_type": "stream",
     "text": [
      "VotingClassifier(estimators=[('knn', KNeighborsClassifier(n_neighbors=7)),\n",
      "                             ('svm', SVC(kernel='linear')),\n",
      "                             ('dt', DecisionTreeClassifier(random_state=50))])\n"
     ]
    }
   ],
   "source": [
    "# create ensemble model with the models above\n",
    "from sklearn.ensemble import VotingClassifier\n",
    "\n",
    "ensemble = VotingClassifier(estimators=[('knn', knn), ('svm', sv), ('dt', dt)])\n",
    "print(ensemble)"
   ]
  },
  {
   "cell_type": "code",
   "execution_count": 53,
   "id": "50399602",
   "metadata": {},
   "outputs": [
    {
     "data": {
      "text/html": [
       "<style>#sk-container-id-2 {color: black;background-color: white;}#sk-container-id-2 pre{padding: 0;}#sk-container-id-2 div.sk-toggleable {background-color: white;}#sk-container-id-2 label.sk-toggleable__label {cursor: pointer;display: block;width: 100%;margin-bottom: 0;padding: 0.3em;box-sizing: border-box;text-align: center;}#sk-container-id-2 label.sk-toggleable__label-arrow:before {content: \"▸\";float: left;margin-right: 0.25em;color: #696969;}#sk-container-id-2 label.sk-toggleable__label-arrow:hover:before {color: black;}#sk-container-id-2 div.sk-estimator:hover label.sk-toggleable__label-arrow:before {color: black;}#sk-container-id-2 div.sk-toggleable__content {max-height: 0;max-width: 0;overflow: hidden;text-align: left;background-color: #f0f8ff;}#sk-container-id-2 div.sk-toggleable__content pre {margin: 0.2em;color: black;border-radius: 0.25em;background-color: #f0f8ff;}#sk-container-id-2 input.sk-toggleable__control:checked~div.sk-toggleable__content {max-height: 200px;max-width: 100%;overflow: auto;}#sk-container-id-2 input.sk-toggleable__control:checked~label.sk-toggleable__label-arrow:before {content: \"▾\";}#sk-container-id-2 div.sk-estimator input.sk-toggleable__control:checked~label.sk-toggleable__label {background-color: #d4ebff;}#sk-container-id-2 div.sk-label input.sk-toggleable__control:checked~label.sk-toggleable__label {background-color: #d4ebff;}#sk-container-id-2 input.sk-hidden--visually {border: 0;clip: rect(1px 1px 1px 1px);clip: rect(1px, 1px, 1px, 1px);height: 1px;margin: -1px;overflow: hidden;padding: 0;position: absolute;width: 1px;}#sk-container-id-2 div.sk-estimator {font-family: monospace;background-color: #f0f8ff;border: 1px dotted black;border-radius: 0.25em;box-sizing: border-box;margin-bottom: 0.5em;}#sk-container-id-2 div.sk-estimator:hover {background-color: #d4ebff;}#sk-container-id-2 div.sk-parallel-item::after {content: \"\";width: 100%;border-bottom: 1px solid gray;flex-grow: 1;}#sk-container-id-2 div.sk-label:hover label.sk-toggleable__label {background-color: #d4ebff;}#sk-container-id-2 div.sk-serial::before {content: \"\";position: absolute;border-left: 1px solid gray;box-sizing: border-box;top: 0;bottom: 0;left: 50%;z-index: 0;}#sk-container-id-2 div.sk-serial {display: flex;flex-direction: column;align-items: center;background-color: white;padding-right: 0.2em;padding-left: 0.2em;position: relative;}#sk-container-id-2 div.sk-item {position: relative;z-index: 1;}#sk-container-id-2 div.sk-parallel {display: flex;align-items: stretch;justify-content: center;background-color: white;position: relative;}#sk-container-id-2 div.sk-item::before, #sk-container-id-2 div.sk-parallel-item::before {content: \"\";position: absolute;border-left: 1px solid gray;box-sizing: border-box;top: 0;bottom: 0;left: 50%;z-index: -1;}#sk-container-id-2 div.sk-parallel-item {display: flex;flex-direction: column;z-index: 1;position: relative;background-color: white;}#sk-container-id-2 div.sk-parallel-item:first-child::after {align-self: flex-end;width: 50%;}#sk-container-id-2 div.sk-parallel-item:last-child::after {align-self: flex-start;width: 50%;}#sk-container-id-2 div.sk-parallel-item:only-child::after {width: 0;}#sk-container-id-2 div.sk-dashed-wrapped {border: 1px dashed gray;margin: 0 0.4em 0.5em 0.4em;box-sizing: border-box;padding-bottom: 0.4em;background-color: white;}#sk-container-id-2 div.sk-label label {font-family: monospace;font-weight: bold;display: inline-block;line-height: 1.2em;}#sk-container-id-2 div.sk-label-container {text-align: center;}#sk-container-id-2 div.sk-container {/* jupyter's `normalize.less` sets `[hidden] { display: none; }` but bootstrap.min.css set `[hidden] { display: none !important; }` so we also need the `!important` here to be able to override the default hidden behavior on the sphinx rendered scikit-learn.org. See: https://github.com/scikit-learn/scikit-learn/issues/21755 */display: inline-block !important;position: relative;}#sk-container-id-2 div.sk-text-repr-fallback {display: none;}</style><div id=\"sk-container-id-2\" class=\"sk-top-container\"><div class=\"sk-text-repr-fallback\"><pre>VotingClassifier(estimators=[(&#x27;knn&#x27;, KNeighborsClassifier(n_neighbors=7)),\n",
       "                             (&#x27;svm&#x27;, SVC(kernel=&#x27;linear&#x27;)),\n",
       "                             (&#x27;dt&#x27;, DecisionTreeClassifier(random_state=50))])</pre><b>In a Jupyter environment, please rerun this cell to show the HTML representation or trust the notebook. <br />On GitHub, the HTML representation is unable to render, please try loading this page with nbviewer.org.</b></div><div class=\"sk-container\" hidden><div class=\"sk-item sk-dashed-wrapped\"><div class=\"sk-label-container\"><div class=\"sk-label sk-toggleable\"><input class=\"sk-toggleable__control sk-hidden--visually\" id=\"sk-estimator-id-2\" type=\"checkbox\" ><label for=\"sk-estimator-id-2\" class=\"sk-toggleable__label sk-toggleable__label-arrow\">VotingClassifier</label><div class=\"sk-toggleable__content\"><pre>VotingClassifier(estimators=[(&#x27;knn&#x27;, KNeighborsClassifier(n_neighbors=7)),\n",
       "                             (&#x27;svm&#x27;, SVC(kernel=&#x27;linear&#x27;)),\n",
       "                             (&#x27;dt&#x27;, DecisionTreeClassifier(random_state=50))])</pre></div></div></div><div class=\"sk-parallel\"><div class=\"sk-parallel-item\"><div class=\"sk-item\"><div class=\"sk-label-container\"><div class=\"sk-label sk-toggleable\"><label>knn</label></div></div><div class=\"sk-serial\"><div class=\"sk-item\"><div class=\"sk-estimator sk-toggleable\"><input class=\"sk-toggleable__control sk-hidden--visually\" id=\"sk-estimator-id-3\" type=\"checkbox\" ><label for=\"sk-estimator-id-3\" class=\"sk-toggleable__label sk-toggleable__label-arrow\">KNeighborsClassifier</label><div class=\"sk-toggleable__content\"><pre>KNeighborsClassifier(n_neighbors=7)</pre></div></div></div></div></div></div><div class=\"sk-parallel-item\"><div class=\"sk-item\"><div class=\"sk-label-container\"><div class=\"sk-label sk-toggleable\"><label>svm</label></div></div><div class=\"sk-serial\"><div class=\"sk-item\"><div class=\"sk-estimator sk-toggleable\"><input class=\"sk-toggleable__control sk-hidden--visually\" id=\"sk-estimator-id-4\" type=\"checkbox\" ><label for=\"sk-estimator-id-4\" class=\"sk-toggleable__label sk-toggleable__label-arrow\">SVC</label><div class=\"sk-toggleable__content\"><pre>SVC(kernel=&#x27;linear&#x27;)</pre></div></div></div></div></div></div><div class=\"sk-parallel-item\"><div class=\"sk-item\"><div class=\"sk-label-container\"><div class=\"sk-label sk-toggleable\"><label>dt</label></div></div><div class=\"sk-serial\"><div class=\"sk-item\"><div class=\"sk-estimator sk-toggleable\"><input class=\"sk-toggleable__control sk-hidden--visually\" id=\"sk-estimator-id-5\" type=\"checkbox\" ><label for=\"sk-estimator-id-5\" class=\"sk-toggleable__label sk-toggleable__label-arrow\">DecisionTreeClassifier</label><div class=\"sk-toggleable__content\"><pre>DecisionTreeClassifier(random_state=50)</pre></div></div></div></div></div></div></div></div></div></div>"
      ],
      "text/plain": [
       "VotingClassifier(estimators=[('knn', KNeighborsClassifier(n_neighbors=7)),\n",
       "                             ('svm', SVC(kernel='linear')),\n",
       "                             ('dt', DecisionTreeClassifier(random_state=50))])"
      ]
     },
     "execution_count": 53,
     "metadata": {},
     "output_type": "execute_result"
    }
   ],
   "source": [
    "# train ensemble model with the models above\n",
    "from sklearn.ensemble import VotingClassifier\n",
    "\n",
    "ensemble.fit(x_train, y_train)"
   ]
  },
  {
   "cell_type": "code",
   "execution_count": 55,
   "id": "17e9ca31",
   "metadata": {},
   "outputs": [],
   "source": [
    "# test the ensemble modle\n",
    "y_pred = ensemble.predict(x_test)"
   ]
  },
  {
   "cell_type": "code",
   "execution_count": 56,
   "id": "cbf92374",
   "metadata": {},
   "outputs": [
    {
     "name": "stdout",
     "output_type": "stream",
     "text": [
      "Ensemble Accuracy: 0.9317073170731708\n"
     ]
    }
   ],
   "source": [
    "# evaluate accuracy\n",
    "accuracy = accuracy_score(y_test, y_pred)\n",
    "print(\"Ensemble Accuracy:\", accuracy)"
   ]
  }
 ],
 "metadata": {
  "kernelspec": {
   "display_name": "Python 3 (ipykernel)",
   "language": "python",
   "name": "python3"
  },
  "language_info": {
   "codemirror_mode": {
    "name": "ipython",
    "version": 3
   },
   "file_extension": ".py",
   "mimetype": "text/x-python",
   "name": "python",
   "nbconvert_exporter": "python",
   "pygments_lexer": "ipython3",
   "version": "3.10.10"
  }
 },
 "nbformat": 4,
 "nbformat_minor": 5
}
