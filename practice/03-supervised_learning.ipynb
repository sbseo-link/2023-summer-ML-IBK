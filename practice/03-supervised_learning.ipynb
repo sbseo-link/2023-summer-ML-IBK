{
 "cells": [
  {
   "cell_type": "markdown",
   "id": "f5ab731f",
   "metadata": {},
   "source": [
    "# 03. 머신러닝 파이프라인"
   ]
  },
  {
   "cell_type": "markdown",
   "id": "b99a52d8",
   "metadata": {},
   "source": [
    "## (1) 데이터 전처리 및 분류"
   ]
  },
  {
   "cell_type": "markdown",
   "id": "00d7697f",
   "metadata": {},
   "source": [
    "#### (1-1) 데이터 전처리"
   ]
  },
  {
   "cell_type": "code",
   "execution_count": 1,
   "id": "866a9dd5",
   "metadata": {},
   "outputs": [],
   "source": [
    "# 'data_path' 를 입력받아서 pandas 로 csv 파일을 읽는 'load_csv' 함수 작성\n",
    "\n",
    "import pandas as pd\n",
    "\n",
    "def load_csv(data_path):\n",
    "    pass"
   ]
  },
  {
   "cell_type": "code",
   "execution_count": 2,
   "id": "abef0ea4",
   "metadata": {},
   "outputs": [],
   "source": [
    "# 'load_csv' 함수로 'heart.csv' 파일 로드"
   ]
  },
  {
   "cell_type": "code",
   "execution_count": 3,
   "id": "0e75e3a9",
   "metadata": {},
   "outputs": [],
   "source": [
    "# 'data' type 확인"
   ]
  },
  {
   "cell_type": "code",
   "execution_count": 4,
   "id": "3ddab48e",
   "metadata": {},
   "outputs": [],
   "source": [
    "# 'data' shape 확인"
   ]
  },
  {
   "cell_type": "code",
   "execution_count": 5,
   "id": "7cb4f27b",
   "metadata": {},
   "outputs": [],
   "source": [
    "# 'data' 의 첫 10행 출력"
   ]
  },
  {
   "cell_type": "code",
   "execution_count": 6,
   "id": "6a611383",
   "metadata": {},
   "outputs": [],
   "source": [
    "# 'data' 의 끝 10행 출력"
   ]
  },
  {
   "cell_type": "code",
   "execution_count": 7,
   "id": "ad9d9e10",
   "metadata": {},
   "outputs": [],
   "source": [
    "# 'data' columns 출력"
   ]
  },
  {
   "cell_type": "code",
   "execution_count": 8,
   "id": "f0ceab71",
   "metadata": {},
   "outputs": [],
   "source": [
    "# 'data' 의 columns 중 'target' column 만 출력"
   ]
  },
  {
   "cell_type": "code",
   "execution_count": 9,
   "id": "9db09b49",
   "metadata": {},
   "outputs": [],
   "source": [
    "# 'data' 의 'target' 값 중 고유값만 출력"
   ]
  },
  {
   "cell_type": "code",
   "execution_count": 10,
   "id": "ed7a3fc7",
   "metadata": {},
   "outputs": [],
   "source": [
    "# 'data' 의 'target' column 의 고유값 별 행의 개수를 차트로 표시"
   ]
  },
  {
   "cell_type": "code",
   "execution_count": 11,
   "id": "2660dfcc",
   "metadata": {},
   "outputs": [],
   "source": [
    "# 'data' 의 정보 및 간단한 통계값 확인 및 의미해석"
   ]
  },
  {
   "cell_type": "code",
   "execution_count": 12,
   "id": "04fe9368",
   "metadata": {},
   "outputs": [],
   "source": [
    "# 'data' 의 각 column 과 'target' column 간의 correlation 구하기"
   ]
  },
  {
   "cell_type": "code",
   "execution_count": 13,
   "id": "6f6b1019",
   "metadata": {},
   "outputs": [],
   "source": [
    "# 'data' 의 각 column 과 'target' column 간의 correlation 을 그래프로 출력"
   ]
  },
  {
   "cell_type": "code",
   "execution_count": 14,
   "id": "85ca8c24",
   "metadata": {},
   "outputs": [],
   "source": [
    "# python package 'seaborn'을 활용하여 'sex' column 을 x축으로, 'target' column 을 y축으로 하는 막대그래프(bar plot) 그리고 의미 파악"
   ]
  },
  {
   "cell_type": "code",
   "execution_count": 15,
   "id": "1928cea0",
   "metadata": {},
   "outputs": [],
   "source": [
    "# 'fbs' column 을 x축으로, 'target' column 을 y축으로 하는 막대그래프(bar plot) 그리고 의미 파악"
   ]
  },
  {
   "cell_type": "code",
   "execution_count": 16,
   "id": "d4090084",
   "metadata": {},
   "outputs": [],
   "source": [
    "# 'fbs' column 을 x축으로, 'slope' column 을 y축으로 하는 막대그래프(bar plot) 그리고 의미 파악"
   ]
  },
  {
   "cell_type": "markdown",
   "id": "7888052d",
   "metadata": {},
   "source": [
    "#### (1-2) 데이터 분류 (train / test)"
   ]
  },
  {
   "cell_type": "code",
   "execution_count": 22,
   "id": "76a5aebd",
   "metadata": {},
   "outputs": [],
   "source": [
    "# 'data' 에서 'target' column 을 제거한 나머지 columns 로 새로운 dataframe 'predictor_columns' 를 만들고, \n",
    "# 'taregt' column 만 존재하는 새로운 dataframe 'target_column' 만들기"
   ]
  },
  {
   "cell_type": "code",
   "execution_count": 18,
   "id": "2f80fb59",
   "metadata": {},
   "outputs": [],
   "source": [
    "# 'predictor_columns' 와 'target_column' 를 train 과 test 비율 8:2 로 데이터를 나누기"
   ]
  },
  {
   "cell_type": "code",
   "execution_count": 19,
   "id": "d251d70c",
   "metadata": {},
   "outputs": [],
   "source": [
    "# 분리된 데이터 (x_train, x_test, y_train, y_test) 의 shape 확인"
   ]
  },
  {
   "cell_type": "code",
   "execution_count": 20,
   "id": "5e93b136",
   "metadata": {},
   "outputs": [],
   "source": [
    "# 분리된 데이터 (x_train, x_test, y_train, y_test) 중 x_train 과 y_train 의 index 확인"
   ]
  },
  {
   "cell_type": "code",
   "execution_count": 21,
   "id": "3397693e",
   "metadata": {},
   "outputs": [],
   "source": [
    "# index 중 false 가 있는지 확인"
   ]
  },
  {
   "cell_type": "markdown",
   "id": "820af800",
   "metadata": {},
   "source": [
    "## 2. 모델 훈련"
   ]
  },
  {
   "cell_type": "markdown",
   "id": "eae0df9c",
   "metadata": {},
   "source": [
    "#### (2-1) K-Nearest Neighbors"
   ]
  },
  {
   "cell_type": "code",
   "execution_count": 23,
   "id": "46032500",
   "metadata": {},
   "outputs": [],
   "source": [
    "# python 'sklearn' package 를 활용하여 'K-Nearest Neighbors' 모델 정의"
   ]
  },
  {
   "cell_type": "code",
   "execution_count": 24,
   "id": "824e3ee1",
   "metadata": {},
   "outputs": [],
   "source": [
    "# 'knn' 모델에 x_train 학습"
   ]
  },
  {
   "cell_type": "code",
   "execution_count": 25,
   "id": "80504ae6",
   "metadata": {},
   "outputs": [],
   "source": [
    "# 학습한 'knn' 모델에 x_test 테스트"
   ]
  },
  {
   "cell_type": "markdown",
   "id": "a721ec7f",
   "metadata": {},
   "source": [
    "## 3. 모델 검증"
   ]
  },
  {
   "cell_type": "code",
   "execution_count": 26,
   "id": "010ae98c",
   "metadata": {},
   "outputs": [],
   "source": [
    "# x_test 결과와 y_test 비교"
   ]
  },
  {
   "cell_type": "markdown",
   "id": "e7cc377d",
   "metadata": {},
   "source": [
    "## 4. 모델 시각화"
   ]
  },
  {
   "cell_type": "code",
   "execution_count": 27,
   "id": "4a0fc3ab",
   "metadata": {},
   "outputs": [],
   "source": [
    "# 'seaborn' package 로 K-Nearest Neighbors' 모델의 정확도 막대그래프 그리기"
   ]
  },
  {
   "cell_type": "markdown",
   "id": "18689a8a",
   "metadata": {},
   "source": [
    "## 2+a. 다양한 모델 적용해보기 "
   ]
  },
  {
   "cell_type": "code",
   "execution_count": 28,
   "id": "4d34b82f",
   "metadata": {},
   "outputs": [],
   "source": [
    "# 모델 학습 결과를 저장할 dictionary 선언\n",
    "scores = {}"
   ]
  },
  {
   "cell_type": "markdown",
   "id": "7f47a04f",
   "metadata": {},
   "source": [
    "#### (2-1) K-Nearest Neighbors"
   ]
  },
  {
   "cell_type": "code",
   "execution_count": 29,
   "id": "b6be8b9f",
   "metadata": {},
   "outputs": [
    {
     "data": {
      "text/plain": [
       "{'knn': 70.24}"
      ]
     },
     "execution_count": 29,
     "metadata": {},
     "output_type": "execute_result"
    }
   ],
   "source": [
    "from sklearn.neighbors import KNeighborsClassifier\n",
    "\n",
    "knn = KNeighborsClassifier(n_neighbors=7)\n",
    "knn.fit(x_train, y_train)\n",
    "y_test_pred = knn.predict(x_test)\n",
    "score_knn = round(accuracy_score(y_test_pred, y_test)*100, 2)\n",
    "scores['knn'] = score_knn\n",
    "scores"
   ]
  },
  {
   "cell_type": "markdown",
   "id": "189068ac",
   "metadata": {},
   "source": [
    "#### (2-2) Logistic Regression"
   ]
  },
  {
   "cell_type": "code",
   "execution_count": 30,
   "id": "f1cfbdb3",
   "metadata": {},
   "outputs": [
    {
     "name": "stderr",
     "output_type": "stream",
     "text": [
      "/opt/homebrew/lib/python3.10/site-packages/sklearn/linear_model/_logistic.py:458: ConvergenceWarning: lbfgs failed to converge (status=1):\n",
      "STOP: TOTAL NO. of ITERATIONS REACHED LIMIT.\n",
      "\n",
      "Increase the number of iterations (max_iter) or scale the data as shown in:\n",
      "    https://scikit-learn.org/stable/modules/preprocessing.html\n",
      "Please also refer to the documentation for alternative solver options:\n",
      "    https://scikit-learn.org/stable/modules/linear_model.html#logistic-regression\n",
      "  n_iter_i = _check_optimize_result(\n"
     ]
    },
    {
     "data": {
      "text/plain": [
       "{'knn': 70.24, 'lr': 85.85}"
      ]
     },
     "execution_count": 30,
     "metadata": {},
     "output_type": "execute_result"
    }
   ],
   "source": [
    "from sklearn.linear_model import LogisticRegression\n",
    "\n",
    "lr = LogisticRegression()\n",
    "lr.fit(x_train, y_train)\n",
    "y_test_pred = lr.predict(x_test)\n",
    "score_lr = round(accuracy_score(y_test_pred, y_test)*100, 2)\n",
    "scores['lr'] = score_lr\n",
    "scores"
   ]
  },
  {
   "cell_type": "markdown",
   "id": "2a46d118",
   "metadata": {},
   "source": [
    "#### (2-3) Naive Bayes"
   ]
  },
  {
   "cell_type": "code",
   "execution_count": 31,
   "id": "dda9d295",
   "metadata": {},
   "outputs": [
    {
     "data": {
      "text/plain": [
       "{'knn': 70.24, 'lr': 85.85, 'nb': 79.51}"
      ]
     },
     "execution_count": 31,
     "metadata": {},
     "output_type": "execute_result"
    }
   ],
   "source": [
    "from sklearn.naive_bayes import GaussianNB\n",
    "\n",
    "nb = GaussianNB()\n",
    "nb.fit(x_train, y_train)\n",
    "y_test_pred = nb.predict(x_test)\n",
    "score_nb = round(accuracy_score(y_test_pred, y_test)*100, 2)\n",
    "scores['nb'] = score_nb\n",
    "scores"
   ]
  },
  {
   "cell_type": "markdown",
   "id": "1d588dd3",
   "metadata": {},
   "source": [
    "#### (2-4) SVM"
   ]
  },
  {
   "cell_type": "code",
   "execution_count": 32,
   "id": "3e0b38b9",
   "metadata": {},
   "outputs": [
    {
     "data": {
      "text/plain": [
       "{'knn': 70.24, 'lr': 85.85, 'nb': 79.51, 'sv': 83.41}"
      ]
     },
     "execution_count": 32,
     "metadata": {},
     "output_type": "execute_result"
    }
   ],
   "source": [
    "from sklearn import svm\n",
    "\n",
    "sv = svm.SVC(kernel='linear')\n",
    "sv.fit(x_train, y_train)\n",
    "y_test_pred = sv.predict(x_test)\n",
    "score_sv = round(accuracy_score(y_test_pred, y_test)*100, 2)\n",
    "scores['sv'] = score_sv\n",
    "scores"
   ]
  },
  {
   "cell_type": "markdown",
   "id": "a64e0781",
   "metadata": {},
   "source": [
    "#### (2-5) Decision Tree"
   ]
  },
  {
   "cell_type": "code",
   "execution_count": 33,
   "id": "d7e6fc57",
   "metadata": {},
   "outputs": [
    {
     "data": {
      "text/plain": [
       "{'knn': 70.24, 'lr': 85.85, 'nb': 79.51, 'sv': 83.41, 'dt': 98.54}"
      ]
     },
     "execution_count": 33,
     "metadata": {},
     "output_type": "execute_result"
    }
   ],
   "source": [
    "from sklearn.tree import DecisionTreeClassifier\n",
    "\n",
    "dt = DecisionTreeClassifier(random_state=50)\n",
    "dt.fit(x_train, y_train)\n",
    "y_test_pred = dt.predict(x_test)\n",
    "score_dt = round(accuracy_score(y_test_pred, y_test)*100, 2)\n",
    "scores['dt'] = score_dt\n",
    "scores"
   ]
  },
  {
   "cell_type": "markdown",
   "id": "6b259426",
   "metadata": {},
   "source": [
    "#### (2-6) Random Forest"
   ]
  },
  {
   "cell_type": "code",
   "execution_count": 34,
   "id": "3591f174",
   "metadata": {},
   "outputs": [
    {
     "data": {
      "text/plain": [
       "{'knn': 70.24, 'lr': 85.85, 'nb': 79.51, 'sv': 83.41, 'dt': 98.54, 'rf': 98.54}"
      ]
     },
     "execution_count": 34,
     "metadata": {},
     "output_type": "execute_result"
    }
   ],
   "source": [
    "from sklearn.ensemble import RandomForestClassifier\n",
    "\n",
    "rf = RandomForestClassifier(random_state=50)\n",
    "rf.fit(x_train, y_train)\n",
    "y_test_pred = rf.predict(x_test)\n",
    "score_rf = round(accuracy_score(y_test_pred, y_test)*100, 2)\n",
    "scores['rf'] = score_rf\n",
    "scores"
   ]
  },
  {
   "cell_type": "markdown",
   "id": "fc5832fa",
   "metadata": {},
   "source": [
    "#### (2-7) XGBoost"
   ]
  },
  {
   "cell_type": "code",
   "execution_count": 35,
   "id": "baac65ba",
   "metadata": {},
   "outputs": [
    {
     "name": "stdout",
     "output_type": "stream",
     "text": [
      "Requirement already satisfied: xgboost in /opt/homebrew/lib/python3.10/site-packages (1.7.5)\n",
      "Requirement already satisfied: scipy in /opt/homebrew/lib/python3.10/site-packages (from xgboost) (1.8.0)\n",
      "Requirement already satisfied: numpy in /opt/homebrew/lib/python3.10/site-packages (from xgboost) (1.23.5)\n",
      "\n",
      "\u001b[1m[\u001b[0m\u001b[34;49mnotice\u001b[0m\u001b[1;39;49m]\u001b[0m\u001b[39;49m A new release of pip is available: \u001b[0m\u001b[31;49m23.0\u001b[0m\u001b[39;49m -> \u001b[0m\u001b[32;49m23.1.2\u001b[0m\n",
      "\u001b[1m[\u001b[0m\u001b[34;49mnotice\u001b[0m\u001b[1;39;49m]\u001b[0m\u001b[39;49m To update, run: \u001b[0m\u001b[32;49mpython3.10 -m pip install --upgrade pip\u001b[0m\n",
      "Note: you may need to restart the kernel to use updated packages.\n"
     ]
    }
   ],
   "source": [
    "%pip install xgboost"
   ]
  },
  {
   "cell_type": "code",
   "execution_count": 36,
   "id": "8c2bb7eb",
   "metadata": {},
   "outputs": [
    {
     "data": {
      "text/plain": [
       "{'knn': 70.24,\n",
       " 'lr': 85.85,\n",
       " 'nb': 79.51,\n",
       " 'sv': 83.41,\n",
       " 'dt': 98.54,\n",
       " 'rf': 98.54,\n",
       " 'xgb': 98.54}"
      ]
     },
     "execution_count": 36,
     "metadata": {},
     "output_type": "execute_result"
    }
   ],
   "source": [
    "import xgboost as xgb\n",
    "\n",
    "xgb = xgb.XGBClassifier(objective=\"binary:logistic\", random_state=50)\n",
    "xgb.fit(x_train, y_train)\n",
    "y_test_pred = xgb.predict(x_test)\n",
    "score_xgb = round(accuracy_score(y_test_pred, y_test)*100,2)\n",
    "scores['xgb'] = score_xgb\n",
    "scores"
   ]
  },
  {
   "cell_type": "markdown",
   "id": "a45b874f",
   "metadata": {},
   "source": [
    "#### (2-8) Neural Network"
   ]
  },
  {
   "cell_type": "code",
   "execution_count": 37,
   "id": "06972389",
   "metadata": {},
   "outputs": [
    {
     "name": "stdout",
     "output_type": "stream",
     "text": [
      "Requirement already satisfied: keras in /opt/homebrew/lib/python3.10/site-packages (2.13.1rc0)\n",
      "\n",
      "\u001b[1m[\u001b[0m\u001b[34;49mnotice\u001b[0m\u001b[1;39;49m]\u001b[0m\u001b[39;49m A new release of pip is available: \u001b[0m\u001b[31;49m23.0\u001b[0m\u001b[39;49m -> \u001b[0m\u001b[32;49m23.1.2\u001b[0m\n",
      "\u001b[1m[\u001b[0m\u001b[34;49mnotice\u001b[0m\u001b[1;39;49m]\u001b[0m\u001b[39;49m To update, run: \u001b[0m\u001b[32;49mpython3.10 -m pip install --upgrade pip\u001b[0m\n",
      "Note: you may need to restart the kernel to use updated packages.\n",
      "Requirement already satisfied: tensorflow in /opt/homebrew/lib/python3.10/site-packages (2.13.0rc1)\n",
      "Requirement already satisfied: tensorflow-macos==2.13.0-rc1 in /opt/homebrew/lib/python3.10/site-packages (from tensorflow) (2.13.0rc1)\n",
      "Requirement already satisfied: tensorflow-estimator<2.14,>=2.13.0rc0 in /opt/homebrew/lib/python3.10/site-packages (from tensorflow-macos==2.13.0-rc1->tensorflow) (2.13.0rc0)\n",
      "Requirement already satisfied: protobuf!=4.21.0,!=4.21.1,!=4.21.2,!=4.21.3,!=4.21.4,!=4.21.5,<5.0.0dev,>=3.20.3 in /opt/homebrew/lib/python3.10/site-packages (from tensorflow-macos==2.13.0-rc1->tensorflow) (4.21.10)\n",
      "Requirement already satisfied: libclang>=13.0.0 in /opt/homebrew/lib/python3.10/site-packages (from tensorflow-macos==2.13.0-rc1->tensorflow) (16.0.0)\n",
      "Requirement already satisfied: tensorboard<2.14,>=2.13 in /opt/homebrew/lib/python3.10/site-packages (from tensorflow-macos==2.13.0-rc1->tensorflow) (2.13.0)\n",
      "Requirement already satisfied: termcolor>=1.1.0 in /opt/homebrew/lib/python3.10/site-packages (from tensorflow-macos==2.13.0-rc1->tensorflow) (2.3.0)\n",
      "Requirement already satisfied: h5py>=2.9.0 in /opt/homebrew/lib/python3.10/site-packages (from tensorflow-macos==2.13.0-rc1->tensorflow) (3.8.0)\n",
      "Requirement already satisfied: absl-py>=1.0.0 in /opt/homebrew/lib/python3.10/site-packages (from tensorflow-macos==2.13.0-rc1->tensorflow) (1.4.0)\n",
      "Requirement already satisfied: opt-einsum>=2.3.2 in /opt/homebrew/lib/python3.10/site-packages (from tensorflow-macos==2.13.0-rc1->tensorflow) (3.3.0)\n",
      "Requirement already satisfied: typing-extensions>=3.6.6 in /opt/homebrew/lib/python3.10/site-packages (from tensorflow-macos==2.13.0-rc1->tensorflow) (4.4.0)\n",
      "Requirement already satisfied: six>=1.12.0 in /opt/homebrew/lib/python3.10/site-packages (from tensorflow-macos==2.13.0-rc1->tensorflow) (1.12.0)\n",
      "Requirement already satisfied: astunparse>=1.6.0 in /opt/homebrew/lib/python3.10/site-packages (from tensorflow-macos==2.13.0-rc1->tensorflow) (1.6.3)\n",
      "Requirement already satisfied: flatbuffers>=23.1.21 in /opt/homebrew/lib/python3.10/site-packages (from tensorflow-macos==2.13.0-rc1->tensorflow) (23.5.26)\n",
      "Requirement already satisfied: google-pasta>=0.1.1 in /opt/homebrew/lib/python3.10/site-packages (from tensorflow-macos==2.13.0-rc1->tensorflow) (0.2.0)\n",
      "Requirement already satisfied: setuptools in /opt/homebrew/lib/python3.10/site-packages (from tensorflow-macos==2.13.0-rc1->tensorflow) (67.2.0)\n",
      "Requirement already satisfied: gast<=0.4.0,>=0.2.1 in /opt/homebrew/lib/python3.10/site-packages (from tensorflow-macos==2.13.0-rc1->tensorflow) (0.4.0)\n",
      "Requirement already satisfied: keras<2.14,>=2.13.1rc0 in /opt/homebrew/lib/python3.10/site-packages (from tensorflow-macos==2.13.0-rc1->tensorflow) (2.13.1rc0)\n",
      "Requirement already satisfied: packaging in /opt/homebrew/lib/python3.10/site-packages (from tensorflow-macos==2.13.0-rc1->tensorflow) (23.1)\n",
      "Requirement already satisfied: grpcio<2.0,>=1.24.3 in /opt/homebrew/lib/python3.10/site-packages (from tensorflow-macos==2.13.0-rc1->tensorflow) (1.54.2)\n",
      "Requirement already satisfied: wrapt>=1.11.0 in /opt/homebrew/lib/python3.10/site-packages (from tensorflow-macos==2.13.0-rc1->tensorflow) (1.15.0)\n",
      "Requirement already satisfied: numpy>=1.22 in /opt/homebrew/lib/python3.10/site-packages (from tensorflow-macos==2.13.0-rc1->tensorflow) (1.23.5)\n",
      "Requirement already satisfied: wheel<1.0,>=0.23.0 in /opt/homebrew/lib/python3.10/site-packages (from astunparse>=1.6.0->tensorflow-macos==2.13.0-rc1->tensorflow) (0.38.4)\n",
      "Requirement already satisfied: google-auth-oauthlib<1.1,>=0.5 in /opt/homebrew/lib/python3.10/site-packages (from tensorboard<2.14,>=2.13->tensorflow-macos==2.13.0-rc1->tensorflow) (1.0.0)\n",
      "Requirement already satisfied: tensorboard-data-server<0.8.0,>=0.7.0 in /opt/homebrew/lib/python3.10/site-packages (from tensorboard<2.14,>=2.13->tensorflow-macos==2.13.0-rc1->tensorflow) (0.7.0)\n",
      "Requirement already satisfied: google-auth<3,>=1.6.3 in /opt/homebrew/lib/python3.10/site-packages (from tensorboard<2.14,>=2.13->tensorflow-macos==2.13.0-rc1->tensorflow) (2.18.1)\n",
      "Requirement already satisfied: markdown>=2.6.8 in /opt/homebrew/lib/python3.10/site-packages (from tensorboard<2.14,>=2.13->tensorflow-macos==2.13.0-rc1->tensorflow) (3.3.7)\n",
      "Requirement already satisfied: werkzeug>=1.0.1 in /opt/homebrew/lib/python3.10/site-packages (from tensorboard<2.14,>=2.13->tensorflow-macos==2.13.0-rc1->tensorflow) (2.2.2)\n",
      "Requirement already satisfied: requests<3,>=2.21.0 in /opt/homebrew/lib/python3.10/site-packages (from tensorboard<2.14,>=2.13->tensorflow-macos==2.13.0-rc1->tensorflow) (2.30.0)\n",
      "Requirement already satisfied: pyasn1-modules>=0.2.1 in /opt/homebrew/lib/python3.10/site-packages (from google-auth<3,>=1.6.3->tensorboard<2.14,>=2.13->tensorflow-macos==2.13.0-rc1->tensorflow) (0.2.8)\n",
      "Requirement already satisfied: cachetools<6.0,>=2.0.0 in /opt/homebrew/lib/python3.10/site-packages (from google-auth<3,>=1.6.3->tensorboard<2.14,>=2.13->tensorflow-macos==2.13.0-rc1->tensorflow) (5.2.0)\n",
      "Requirement already satisfied: urllib3<2.0 in /opt/homebrew/lib/python3.10/site-packages (from google-auth<3,>=1.6.3->tensorboard<2.14,>=2.13->tensorflow-macos==2.13.0-rc1->tensorflow) (1.26.15)\n",
      "Requirement already satisfied: rsa<5,>=3.1.4 in /opt/homebrew/lib/python3.10/site-packages (from google-auth<3,>=1.6.3->tensorboard<2.14,>=2.13->tensorflow-macos==2.13.0-rc1->tensorflow) (4.9)\n",
      "Requirement already satisfied: requests-oauthlib>=0.7.0 in /opt/homebrew/lib/python3.10/site-packages (from google-auth-oauthlib<1.1,>=0.5->tensorboard<2.14,>=2.13->tensorflow-macos==2.13.0-rc1->tensorflow) (1.3.1)\n",
      "Requirement already satisfied: charset-normalizer<4,>=2 in /opt/homebrew/lib/python3.10/site-packages (from requests<3,>=2.21.0->tensorboard<2.14,>=2.13->tensorflow-macos==2.13.0-rc1->tensorflow) (3.1.0)\n",
      "Requirement already satisfied: idna<4,>=2.5 in /opt/homebrew/lib/python3.10/site-packages (from requests<3,>=2.21.0->tensorboard<2.14,>=2.13->tensorflow-macos==2.13.0-rc1->tensorflow) (2.8)\n",
      "Requirement already satisfied: certifi>=2017.4.17 in /opt/homebrew/lib/python3.10/site-packages (from requests<3,>=2.21.0->tensorboard<2.14,>=2.13->tensorflow-macos==2.13.0-rc1->tensorflow) (2022.9.24)\n",
      "Requirement already satisfied: MarkupSafe>=2.1.1 in /opt/homebrew/lib/python3.10/site-packages (from werkzeug>=1.0.1->tensorboard<2.14,>=2.13->tensorflow-macos==2.13.0-rc1->tensorflow) (2.1.1)\n",
      "Requirement already satisfied: pyasn1<0.5.0,>=0.4.6 in /opt/homebrew/lib/python3.10/site-packages (from pyasn1-modules>=0.2.1->google-auth<3,>=1.6.3->tensorboard<2.14,>=2.13->tensorflow-macos==2.13.0-rc1->tensorflow) (0.4.8)\n",
      "Requirement already satisfied: oauthlib>=3.0.0 in /opt/homebrew/lib/python3.10/site-packages (from requests-oauthlib>=0.7.0->google-auth-oauthlib<1.1,>=0.5->tensorboard<2.14,>=2.13->tensorflow-macos==2.13.0-rc1->tensorflow) (3.2.2)\n",
      "\n",
      "\u001b[1m[\u001b[0m\u001b[34;49mnotice\u001b[0m\u001b[1;39;49m]\u001b[0m\u001b[39;49m A new release of pip is available: \u001b[0m\u001b[31;49m23.0\u001b[0m\u001b[39;49m -> \u001b[0m\u001b[32;49m23.1.2\u001b[0m\n",
      "\u001b[1m[\u001b[0m\u001b[34;49mnotice\u001b[0m\u001b[1;39;49m]\u001b[0m\u001b[39;49m To update, run: \u001b[0m\u001b[32;49mpython3.10 -m pip install --upgrade pip\u001b[0m\n",
      "Note: you may need to restart the kernel to use updated packages.\n"
     ]
    }
   ],
   "source": [
    "%pip install keras\n",
    "%pip install tensorflow"
   ]
  },
  {
   "cell_type": "code",
   "execution_count": 38,
   "id": "de25deb4",
   "metadata": {},
   "outputs": [
    {
     "name": "stdout",
     "output_type": "stream",
     "text": [
      "Epoch 1/50\n",
      "26/26 [==============================] - 0s 412us/step - loss: 36.2371 - accuracy: 0.5134\n",
      "Epoch 2/50\n",
      "26/26 [==============================] - 0s 304us/step - loss: 20.9021 - accuracy: 0.5122\n",
      "Epoch 3/50\n",
      "26/26 [==============================] - 0s 357us/step - loss: 7.3725 - accuracy: 0.5598\n",
      "Epoch 4/50\n",
      "26/26 [==============================] - 0s 322us/step - loss: 4.5435 - accuracy: 0.5951\n",
      "Epoch 5/50\n",
      "26/26 [==============================] - 0s 333us/step - loss: 3.6953 - accuracy: 0.5829\n",
      "Epoch 6/50\n",
      "26/26 [==============================] - 0s 313us/step - loss: 2.7396 - accuracy: 0.6012\n",
      "Epoch 7/50\n",
      "26/26 [==============================] - 0s 322us/step - loss: 1.9658 - accuracy: 0.6366\n",
      "Epoch 8/50\n",
      "26/26 [==============================] - 0s 315us/step - loss: 1.4505 - accuracy: 0.6634\n",
      "Epoch 9/50\n",
      "26/26 [==============================] - 0s 304us/step - loss: 1.1613 - accuracy: 0.6866\n",
      "Epoch 10/50\n",
      "26/26 [==============================] - 0s 301us/step - loss: 1.0659 - accuracy: 0.7012\n",
      "Epoch 11/50\n",
      "26/26 [==============================] - 0s 299us/step - loss: 1.0023 - accuracy: 0.6927\n",
      "Epoch 12/50\n",
      "26/26 [==============================] - 0s 314us/step - loss: 0.9336 - accuracy: 0.7134\n",
      "Epoch 13/50\n",
      "26/26 [==============================] - 0s 284us/step - loss: 0.8944 - accuracy: 0.7183\n",
      "Epoch 14/50\n",
      "26/26 [==============================] - 0s 304us/step - loss: 0.8594 - accuracy: 0.7122\n",
      "Epoch 15/50\n",
      "26/26 [==============================] - 0s 285us/step - loss: 0.8172 - accuracy: 0.7171\n",
      "Epoch 16/50\n",
      "26/26 [==============================] - 0s 342us/step - loss: 0.7915 - accuracy: 0.7207\n",
      "Epoch 17/50\n",
      "26/26 [==============================] - 0s 315us/step - loss: 0.7481 - accuracy: 0.7268\n",
      "Epoch 18/50\n",
      "26/26 [==============================] - 0s 338us/step - loss: 0.7211 - accuracy: 0.7256\n",
      "Epoch 19/50\n",
      "26/26 [==============================] - 0s 309us/step - loss: 0.6967 - accuracy: 0.7256\n",
      "Epoch 20/50\n",
      "26/26 [==============================] - 0s 334us/step - loss: 0.6846 - accuracy: 0.7195\n",
      "Epoch 21/50\n",
      "26/26 [==============================] - 0s 330us/step - loss: 0.6499 - accuracy: 0.7366\n",
      "Epoch 22/50\n",
      "26/26 [==============================] - 0s 322us/step - loss: 0.6252 - accuracy: 0.7415\n",
      "Epoch 23/50\n",
      "26/26 [==============================] - 0s 354us/step - loss: 0.6074 - accuracy: 0.7476\n",
      "Epoch 24/50\n",
      "26/26 [==============================] - 0s 316us/step - loss: 0.6130 - accuracy: 0.7378\n",
      "Epoch 25/50\n",
      "26/26 [==============================] - 0s 350us/step - loss: 0.5766 - accuracy: 0.7585\n",
      "Epoch 26/50\n",
      "26/26 [==============================] - 0s 335us/step - loss: 0.5691 - accuracy: 0.7659\n",
      "Epoch 27/50\n",
      "26/26 [==============================] - 0s 315us/step - loss: 0.5473 - accuracy: 0.7683\n",
      "Epoch 28/50\n",
      "26/26 [==============================] - 0s 331us/step - loss: 0.5567 - accuracy: 0.7634\n",
      "Epoch 29/50\n",
      "26/26 [==============================] - 0s 318us/step - loss: 0.5308 - accuracy: 0.7707\n",
      "Epoch 30/50\n",
      "26/26 [==============================] - 0s 351us/step - loss: 0.5276 - accuracy: 0.7659\n",
      "Epoch 31/50\n",
      "26/26 [==============================] - 0s 311us/step - loss: 0.5134 - accuracy: 0.7866\n",
      "Epoch 32/50\n",
      "26/26 [==============================] - 0s 354us/step - loss: 0.5178 - accuracy: 0.7695\n",
      "Epoch 33/50\n",
      "26/26 [==============================] - 0s 324us/step - loss: 0.5057 - accuracy: 0.7976\n",
      "Epoch 34/50\n",
      "26/26 [==============================] - 0s 325us/step - loss: 0.5002 - accuracy: 0.7939\n",
      "Epoch 35/50\n",
      "26/26 [==============================] - 0s 337us/step - loss: 0.4881 - accuracy: 0.8037\n",
      "Epoch 36/50\n",
      "26/26 [==============================] - 0s 318us/step - loss: 0.4874 - accuracy: 0.7976\n",
      "Epoch 37/50\n",
      "26/26 [==============================] - 0s 350us/step - loss: 0.4860 - accuracy: 0.7988\n",
      "Epoch 38/50\n",
      "26/26 [==============================] - 0s 306us/step - loss: 0.4760 - accuracy: 0.8171\n",
      "Epoch 39/50\n",
      "26/26 [==============================] - 0s 322us/step - loss: 0.4702 - accuracy: 0.8195\n",
      "Epoch 40/50\n",
      "26/26 [==============================] - 0s 302us/step - loss: 0.4640 - accuracy: 0.8195\n",
      "Epoch 41/50\n",
      "26/26 [==============================] - 0s 311us/step - loss: 0.4625 - accuracy: 0.8207\n",
      "Epoch 42/50\n",
      "26/26 [==============================] - 0s 338us/step - loss: 0.4561 - accuracy: 0.8171\n",
      "Epoch 43/50\n",
      "26/26 [==============================] - 0s 316us/step - loss: 0.4513 - accuracy: 0.8244\n",
      "Epoch 44/50\n",
      "26/26 [==============================] - 0s 352us/step - loss: 0.4559 - accuracy: 0.8073\n",
      "Epoch 45/50\n",
      "26/26 [==============================] - 0s 305us/step - loss: 0.4441 - accuracy: 0.8207\n",
      "Epoch 46/50\n",
      "26/26 [==============================] - 0s 323us/step - loss: 0.4386 - accuracy: 0.8317\n",
      "Epoch 47/50\n",
      "26/26 [==============================] - 0s 331us/step - loss: 0.4371 - accuracy: 0.8232\n",
      "Epoch 48/50\n",
      "26/26 [==============================] - 0s 308us/step - loss: 0.4490 - accuracy: 0.8171\n",
      "Epoch 49/50\n",
      "26/26 [==============================] - 0s 326us/step - loss: 0.4313 - accuracy: 0.8244\n",
      "Epoch 50/50\n",
      "26/26 [==============================] - 0s 304us/step - loss: 0.4406 - accuracy: 0.8073\n",
      "7/7 [==============================] - 0s 315us/step\n"
     ]
    },
    {
     "data": {
      "text/plain": [
       "{'knn': 70.24,\n",
       " 'lr': 85.85,\n",
       " 'nb': 79.51,\n",
       " 'sv': 83.41,\n",
       " 'dt': 98.54,\n",
       " 'rf': 98.54,\n",
       " 'xgb': 98.54,\n",
       " 'dnn': 80.0}"
      ]
     },
     "execution_count": 38,
     "metadata": {},
     "output_type": "execute_result"
    }
   ],
   "source": [
    "from keras.models import Sequential\n",
    "from keras.layers import Dense\n",
    "\n",
    "dnn = Sequential()\n",
    "dnn.add(Dense(11, activation='relu', input_dim=13))\n",
    "dnn.add(Dense(1,activation='sigmoid'))\n",
    "dnn.compile(loss='binary_crossentropy', optimizer='adam', metrics=['accuracy'])\n",
    "\n",
    "dnn.fit(x_train, y_train, epochs=50)\n",
    "\n",
    "y_test_pred = dnn.predict(x_test)\n",
    "y_test_pred = [round(y[0]) for y in y_test_pred]\n",
    "\n",
    "score_dnn = round(accuracy_score(y_test_pred, y_test)*100,2)\n",
    "scores['dnn'] = score_dnn\n",
    "scores"
   ]
  },
  {
   "cell_type": "markdown",
   "id": "cfe5664f",
   "metadata": {},
   "source": [
    "#### 모델 결과 비교"
   ]
  },
  {
   "cell_type": "code",
   "execution_count": 39,
   "id": "4002f871",
   "metadata": {},
   "outputs": [
    {
     "name": "stdout",
     "output_type": "stream",
     "text": [
      "knn 70.24\n",
      "lr 85.85\n",
      "nb 79.51\n",
      "sv 83.41\n",
      "dt 98.54\n",
      "rf 98.54\n",
      "xgb 98.54\n",
      "dnn 80.0\n"
     ]
    }
   ],
   "source": [
    "# 모델 결과 비교\n",
    "for model, acc in scores.items():\n",
    "    print(model, acc)"
   ]
  },
  {
   "cell_type": "markdown",
   "id": "f6757bfc",
   "metadata": {},
   "source": [
    "## 4+a. 전체 모델 시각화"
   ]
  },
  {
   "cell_type": "code",
   "execution_count": 40,
   "id": "36fa54bd",
   "metadata": {},
   "outputs": [
    {
     "data": {
      "text/plain": [
       "<AxesSubplot: xlabel='Algorithms', ylabel='Accuracy score'>"
      ]
     },
     "execution_count": 40,
     "metadata": {},
     "output_type": "execute_result"
    },
    {
     "data": {
      "image/png": "[encoded data removed]",
      "text/plain": [
       "<Figure size 1500x800 with 1 Axes>"
      ]
     },
     "metadata": {},
     "output_type": "display_data"
    }
   ],
   "source": [
    "# 'seaborn' package 를 활용하여 모델 결과 막대 그래프 (bar plot) 로 그리기\n",
    "sns.set(rc={'figure.figsize':(15,8)})\n",
    "plt.xlabel(\"Algorithms\")\n",
    "plt.ylabel(\"Accuracy score\")\n",
    "\n",
    "sns.barplot(x=list(scores.keys()), y=list(scores.values()))"
   ]
  }
 ],
 "metadata": {
  "kernelspec": {
   "display_name": "Python 3 (ipykernel)",
   "language": "python",
   "name": "python3"
  },
  "language_info": {
   "codemirror_mode": {
    "name": "ipython",
    "version": 3
   },
   "file_extension": ".py",
   "mimetype": "text/x-python",
   "name": "python",
   "nbconvert_exporter": "python",
   "pygments_lexer": "ipython3",
   "version": "3.10.10"
  }
 },
 "nbformat": 4,
 "nbformat_minor": 5
}
