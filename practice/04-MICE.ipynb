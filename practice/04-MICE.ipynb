{
 "cells": [
  {
   "cell_type": "markdown",
   "id": "b4479efe",
   "metadata": {},
   "source": [
    "# 결손치 예측 MICE 알고리즘"
   ]
  },
  {
   "cell_type": "markdown",
   "id": "b9949af7",
   "metadata": {},
   "source": [
    "#### (1) 데이터 로드하기"
   ]
  },
  {
   "cell_type": "code",
   "execution_count": 1,
   "id": "c7497d2e",
   "metadata": {},
   "outputs": [],
   "source": [
    "# 데이터 로드"
   ]
  },
  {
   "cell_type": "markdown",
   "id": "7423325d",
   "metadata": {},
   "source": [
    "#### (2) target column 제거하기"
   ]
  },
  {
   "cell_type": "code",
   "execution_count": 2,
   "id": "6abb41b5",
   "metadata": {},
   "outputs": [],
   "source": [
    "# target column 제거"
   ]
  },
  {
   "cell_type": "markdown",
   "id": "c051b95d",
   "metadata": {},
   "source": [
    "#### (3) MICE 알고리즘 선언하기"
   ]
  },
  {
   "cell_type": "code",
   "execution_count": 3,
   "id": "17b36c53",
   "metadata": {},
   "outputs": [
    {
     "ename": "ImportError",
     "evalue": "IterativeImputer is experimental and the API might change without any deprecation cycle. To use it, you need to explicitly import enable_iterative_imputer:\nfrom sklearn.experimental import enable_iterative_imputer",
     "output_type": "error",
     "traceback": [
      "\u001b[0;31m---------------------------------------------------------------------------\u001b[0m",
      "\u001b[0;31mImportError\u001b[0m                               Traceback (most recent call last)",
      "Cell \u001b[0;32mIn[3], line 2\u001b[0m\n\u001b[1;32m      1\u001b[0m \u001b[38;5;66;03m# MICE 알고리즘 적용하기 (sklearn IterativeImputer)\u001b[39;00m\n\u001b[0;32m----> 2\u001b[0m \u001b[38;5;28;01mfrom\u001b[39;00m \u001b[38;5;21;01msklearn\u001b[39;00m\u001b[38;5;21;01m.\u001b[39;00m\u001b[38;5;21;01mimpute\u001b[39;00m \u001b[38;5;28;01mimport\u001b[39;00m IterativeImputer\n",
      "File \u001b[0;32m/opt/homebrew/lib/python3.10/site-packages/sklearn/impute/__init__.py:18\u001b[0m, in \u001b[0;36m__getattr__\u001b[0;34m(name)\u001b[0m\n\u001b[1;32m     16\u001b[0m \u001b[38;5;28;01mdef\u001b[39;00m \u001b[38;5;21m__getattr__\u001b[39m(name):\n\u001b[1;32m     17\u001b[0m     \u001b[38;5;28;01mif\u001b[39;00m name \u001b[38;5;241m==\u001b[39m \u001b[38;5;124m\"\u001b[39m\u001b[38;5;124mIterativeImputer\u001b[39m\u001b[38;5;124m\"\u001b[39m:\n\u001b[0;32m---> 18\u001b[0m         \u001b[38;5;28;01mraise\u001b[39;00m \u001b[38;5;167;01mImportError\u001b[39;00m(\n\u001b[1;32m     19\u001b[0m             \u001b[38;5;124mf\u001b[39m\u001b[38;5;124m\"\u001b[39m\u001b[38;5;132;01m{\u001b[39;00mname\u001b[38;5;132;01m}\u001b[39;00m\u001b[38;5;124m is experimental and the API might change without any \u001b[39m\u001b[38;5;124m\"\u001b[39m\n\u001b[1;32m     20\u001b[0m             \u001b[38;5;124m\"\u001b[39m\u001b[38;5;124mdeprecation cycle. To use it, you need to explicitly import \u001b[39m\u001b[38;5;124m\"\u001b[39m\n\u001b[1;32m     21\u001b[0m             \u001b[38;5;124m\"\u001b[39m\u001b[38;5;124menable_iterative_imputer:\u001b[39m\u001b[38;5;130;01m\\n\u001b[39;00m\u001b[38;5;124m\"\u001b[39m\n\u001b[1;32m     22\u001b[0m             \u001b[38;5;124m\"\u001b[39m\u001b[38;5;124mfrom sklearn.experimental import enable_iterative_imputer\u001b[39m\u001b[38;5;124m\"\u001b[39m\n\u001b[1;32m     23\u001b[0m         )\n\u001b[1;32m     24\u001b[0m     \u001b[38;5;28;01mraise\u001b[39;00m \u001b[38;5;167;01mAttributeError\u001b[39;00m(\u001b[38;5;124mf\u001b[39m\u001b[38;5;124m\"\u001b[39m\u001b[38;5;124mmodule \u001b[39m\u001b[38;5;132;01m{\u001b[39;00m\u001b[38;5;18m__name__\u001b[39m\u001b[38;5;132;01m}\u001b[39;00m\u001b[38;5;124m has no attribute \u001b[39m\u001b[38;5;132;01m{\u001b[39;00mname\u001b[38;5;132;01m}\u001b[39;00m\u001b[38;5;124m\"\u001b[39m)\n",
      "\u001b[0;31mImportError\u001b[0m: IterativeImputer is experimental and the API might change without any deprecation cycle. To use it, you need to explicitly import enable_iterative_imputer:\nfrom sklearn.experimental import enable_iterative_imputer"
     ]
    }
   ],
   "source": [
    "# MICE 알고리즘 적용하기 (sklearn IterativeImputer)\n",
    "from sklearn.impute import IterativeImputer"
   ]
  },
  {
   "cell_type": "code",
   "execution_count": 4,
   "id": "d16816ac",
   "metadata": {},
   "outputs": [],
   "source": [
    "# MICE 알고리즘 적용하기 (sklearn IterativeImputer)\n",
    "from sklearn.linear_model import LinearRegression\n",
    "from sklearn.experimental import enable_iterative_imputer\n",
    "from sklearn.impute import IterativeImputer"
   ]
  },
  {
   "cell_type": "markdown",
   "id": "6fa945ef",
   "metadata": {},
   "source": [
    "#### (4) MICE 학습하기"
   ]
  },
  {
   "cell_type": "code",
   "execution_count": null,
   "id": "58d0dca0",
   "metadata": {},
   "outputs": [],
   "source": []
  },
  {
   "cell_type": "markdown",
   "id": "5977fe2f",
   "metadata": {},
   "source": [
    "#### (5) 결손치 예측데이터와 실제 비교하기"
   ]
  },
  {
   "cell_type": "code",
   "execution_count": 5,
   "id": "b354c182",
   "metadata": {},
   "outputs": [],
   "source": [
    "# 결손치 데이터"
   ]
  },
  {
   "cell_type": "code",
   "execution_count": 6,
   "id": "6432d325",
   "metadata": {},
   "outputs": [],
   "source": [
    "# 실제 데이터"
   ]
  },
  {
   "cell_type": "code",
   "execution_count": 7,
   "id": "beea38e5",
   "metadata": {},
   "outputs": [],
   "source": [
    "# 결손치 예측 데이터"
   ]
  },
  {
   "cell_type": "markdown",
   "id": "e58c04cb",
   "metadata": {},
   "source": [
    "#### (+) 더 많은 실제 데이터를 사용하여 동일한 과정 적용하기"
   ]
  },
  {
   "cell_type": "code",
   "execution_count": null,
   "id": "4c7e1538",
   "metadata": {},
   "outputs": [],
   "source": []
  }
 ],
 "metadata": {
  "kernelspec": {
   "display_name": "Python 3 (ipykernel)",
   "language": "python",
   "name": "python3"
  },
  "language_info": {
   "codemirror_mode": {
    "name": "ipython",
    "version": 3
   },
   "file_extension": ".py",
   "mimetype": "text/x-python",
   "name": "python",
   "nbconvert_exporter": "python",
   "pygments_lexer": "ipython3",
   "version": "3.10.10"
  }
 },
 "nbformat": 4,
 "nbformat_minor": 5
}
